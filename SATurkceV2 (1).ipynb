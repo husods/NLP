{
 "cells": [
  {
   "cell_type": "code",
   "execution_count": 1,
   "metadata": {
    "executionInfo": {
     "elapsed": 5003,
     "status": "ok",
     "timestamp": 1730531065618,
     "user": {
      "displayName": "Yusuf Evren AYKAÇ",
      "userId": "02771263071343472956"
     },
     "user_tz": -180
    },
    "id": "v1FNIM6LVs4T"
   },
   "outputs": [],
   "source": [
    "# Import necessary libraries\n",
    "import numpy as np\n",
    "import pandas as pd\n",
    "import tensorflow as tf\n",
    "from google.colab import drive\n"
   ]
  },
  {
   "cell_type": "code",
   "execution_count": 2,
   "metadata": {
    "colab": {
     "base_uri": "https://localhost:8080/"
    },
    "executionInfo": {
     "elapsed": 21586,
     "status": "ok",
     "timestamp": 1730531093564,
     "user": {
      "displayName": "Yusuf Evren AYKAÇ",
      "userId": "02771263071343472956"
     },
     "user_tz": -180
    },
    "id": "0zqqntpmWdhh",
    "outputId": "feeffa33-9cdd-487f-a1ea-683e54222229"
   },
   "outputs": [
    {
     "name": "stdout",
     "output_type": "stream",
     "text": [
      "Mounted at /content/drive\n"
     ]
    }
   ],
   "source": [
    "drive.mount('/content/drive')"
   ]
  },
  {
   "cell_type": "code",
   "execution_count": 3,
   "metadata": {
    "executionInfo": {
     "elapsed": 294,
     "status": "ok",
     "timestamp": 1730531609987,
     "user": {
      "displayName": "Yusuf Evren AYKAÇ",
      "userId": "02771263071343472956"
     },
     "user_tz": -180
    },
    "id": "j5dbAG2EWkY7"
   },
   "outputs": [],
   "source": [
    "# Import necessary libraries\n",
    "from tensorflow.keras.models import Sequential\n",
    "from tensorflow.keras.layers import Dense, GRU, Embedding\n",
    "from tensorflow.keras.optimizers import Adam\n",
    "from tensorflow.keras.preprocessing.text import Tokenizer\n",
    "from tensorflow.keras.preprocessing.sequence import pad_sequences"
   ]
  },
  {
   "cell_type": "code",
   "execution_count": 4,
   "metadata": {
    "executionInfo": {
     "elapsed": 3855,
     "status": "ok",
     "timestamp": 1730531617072,
     "user": {
      "displayName": "Yusuf Evren AYKAÇ",
      "userId": "02771263071343472956"
     },
     "user_tz": -180
    },
    "id": "8Y1BehjdaGMv"
   },
   "outputs": [],
   "source": [
    "dataset = pd.read_csv('/content/drive/My Drive/_CENG442/SA/Test/TurkceSA/hepsiburada.csv')"
   ]
  },
  {
   "cell_type": "code",
   "execution_count": 5,
   "metadata": {
    "colab": {
     "base_uri": "https://localhost:8080/",
     "height": 423
    },
    "executionInfo": {
     "elapsed": 304,
     "status": "ok",
     "timestamp": 1730531619422,
     "user": {
      "displayName": "Yusuf Evren AYKAÇ",
      "userId": "02771263071343472956"
     },
     "user_tz": -180
    },
    "id": "dM_z_ZkoayUd",
    "outputId": "6a3ef199-c1fd-4d7d-b476-86cc998ef019"
   },
   "outputs": [
    {
     "data": {
      "application/vnd.google.colaboratory.intrinsic+json": {
       "type": "dataframe",
       "variable_name": "dataset"
      },
      "text/html": [
       "\n",
       "  <div id=\"df-42a455ab-85bf-4a2c-a4ec-17062cc20e28\" class=\"colab-df-container\">\n",
       "    <div>\n",
       "<style scoped>\n",
       "    .dataframe tbody tr th:only-of-type {\n",
       "        vertical-align: middle;\n",
       "    }\n",
       "\n",
       "    .dataframe tbody tr th {\n",
       "        vertical-align: top;\n",
       "    }\n",
       "\n",
       "    .dataframe thead th {\n",
       "        text-align: right;\n",
       "    }\n",
       "</style>\n",
       "<table border=\"1\" class=\"dataframe\">\n",
       "  <thead>\n",
       "    <tr style=\"text-align: right;\">\n",
       "      <th></th>\n",
       "      <th>Rating</th>\n",
       "      <th>Review</th>\n",
       "    </tr>\n",
       "  </thead>\n",
       "  <tbody>\n",
       "    <tr>\n",
       "      <th>0</th>\n",
       "      <td>1</td>\n",
       "      <td>3 yıldır tık demedi. :)</td>\n",
       "    </tr>\n",
       "    <tr>\n",
       "      <th>1</th>\n",
       "      <td>1</td>\n",
       "      <td>3 yıldır kullanıyorum müthiş</td>\n",
       "    </tr>\n",
       "    <tr>\n",
       "      <th>2</th>\n",
       "      <td>1</td>\n",
       "      <td>Ürün bugün elime geçti çok fazla inceleme fırs...</td>\n",
       "    </tr>\n",
       "    <tr>\n",
       "      <th>3</th>\n",
       "      <td>1</td>\n",
       "      <td>Almaya karar verdim. Hemencecik geldi. Keyifle...</td>\n",
       "    </tr>\n",
       "    <tr>\n",
       "      <th>4</th>\n",
       "      <td>1</td>\n",
       "      <td>Günlük kullanımınızı çok çok iyi karsılıyor kı...</td>\n",
       "    </tr>\n",
       "    <tr>\n",
       "      <th>...</th>\n",
       "      <td>...</td>\n",
       "      <td>...</td>\n",
       "    </tr>\n",
       "    <tr>\n",
       "      <th>243492</th>\n",
       "      <td>1</td>\n",
       "      <td>fiyatına göre güzel</td>\n",
       "    </tr>\n",
       "    <tr>\n",
       "      <th>243493</th>\n",
       "      <td>1</td>\n",
       "      <td>Ürün kullanışlı iş görüyor fazlasıyla eşime al...</td>\n",
       "    </tr>\n",
       "    <tr>\n",
       "      <th>243494</th>\n",
       "      <td>1</td>\n",
       "      <td>Hızlı Kargo, güzel ürün</td>\n",
       "    </tr>\n",
       "    <tr>\n",
       "      <th>243495</th>\n",
       "      <td>1</td>\n",
       "      <td>telefon başarılı hızlı bir cihaz  sadece beyaz...</td>\n",
       "    </tr>\n",
       "    <tr>\n",
       "      <th>243496</th>\n",
       "      <td>1</td>\n",
       "      <td>Urun cok guzel pazar gunu siparis verdim adana...</td>\n",
       "    </tr>\n",
       "  </tbody>\n",
       "</table>\n",
       "<p>243497 rows × 2 columns</p>\n",
       "</div>\n",
       "    <div class=\"colab-df-buttons\">\n",
       "\n",
       "  <div class=\"colab-df-container\">\n",
       "    <button class=\"colab-df-convert\" onclick=\"convertToInteractive('df-42a455ab-85bf-4a2c-a4ec-17062cc20e28')\"\n",
       "            title=\"Convert this dataframe to an interactive table.\"\n",
       "            style=\"display:none;\">\n",
       "\n",
       "  <svg xmlns=\"http://www.w3.org/2000/svg\" height=\"24px\" viewBox=\"0 -960 960 960\">\n",
       "    <path d=\"M120-120v-720h720v720H120Zm60-500h600v-160H180v160Zm220 220h160v-160H400v160Zm0 220h160v-160H400v160ZM180-400h160v-160H180v160Zm440 0h160v-160H620v160ZM180-180h160v-160H180v160Zm440 0h160v-160H620v160Z\"/>\n",
       "  </svg>\n",
       "    </button>\n",
       "\n",
       "  <style>\n",
       "    .colab-df-container {\n",
       "      display:flex;\n",
       "      gap: 12px;\n",
       "    }\n",
       "\n",
       "    .colab-df-convert {\n",
       "      background-color: #E8F0FE;\n",
       "      border: none;\n",
       "      border-radius: 50%;\n",
       "      cursor: pointer;\n",
       "      display: none;\n",
       "      fill: #1967D2;\n",
       "      height: 32px;\n",
       "      padding: 0 0 0 0;\n",
       "      width: 32px;\n",
       "    }\n",
       "\n",
       "    .colab-df-convert:hover {\n",
       "      background-color: #E2EBFA;\n",
       "      box-shadow: 0px 1px 2px rgba(60, 64, 67, 0.3), 0px 1px 3px 1px rgba(60, 64, 67, 0.15);\n",
       "      fill: #174EA6;\n",
       "    }\n",
       "\n",
       "    .colab-df-buttons div {\n",
       "      margin-bottom: 4px;\n",
       "    }\n",
       "\n",
       "    [theme=dark] .colab-df-convert {\n",
       "      background-color: #3B4455;\n",
       "      fill: #D2E3FC;\n",
       "    }\n",
       "\n",
       "    [theme=dark] .colab-df-convert:hover {\n",
       "      background-color: #434B5C;\n",
       "      box-shadow: 0px 1px 3px 1px rgba(0, 0, 0, 0.15);\n",
       "      filter: drop-shadow(0px 1px 2px rgba(0, 0, 0, 0.3));\n",
       "      fill: #FFFFFF;\n",
       "    }\n",
       "  </style>\n",
       "\n",
       "    <script>\n",
       "      const buttonEl =\n",
       "        document.querySelector('#df-42a455ab-85bf-4a2c-a4ec-17062cc20e28 button.colab-df-convert');\n",
       "      buttonEl.style.display =\n",
       "        google.colab.kernel.accessAllowed ? 'block' : 'none';\n",
       "\n",
       "      async function convertToInteractive(key) {\n",
       "        const element = document.querySelector('#df-42a455ab-85bf-4a2c-a4ec-17062cc20e28');\n",
       "        const dataTable =\n",
       "          await google.colab.kernel.invokeFunction('convertToInteractive',\n",
       "                                                    [key], {});\n",
       "        if (!dataTable) return;\n",
       "\n",
       "        const docLinkHtml = 'Like what you see? Visit the ' +\n",
       "          '<a target=\"_blank\" href=https://colab.research.google.com/notebooks/data_table.ipynb>data table notebook</a>'\n",
       "          + ' to learn more about interactive tables.';\n",
       "        element.innerHTML = '';\n",
       "        dataTable['output_type'] = 'display_data';\n",
       "        await google.colab.output.renderOutput(dataTable, element);\n",
       "        const docLink = document.createElement('div');\n",
       "        docLink.innerHTML = docLinkHtml;\n",
       "        element.appendChild(docLink);\n",
       "      }\n",
       "    </script>\n",
       "  </div>\n",
       "\n",
       "\n",
       "<div id=\"df-7a55efca-2a29-4feb-a6d8-483dcf1f6f88\">\n",
       "  <button class=\"colab-df-quickchart\" onclick=\"quickchart('df-7a55efca-2a29-4feb-a6d8-483dcf1f6f88')\"\n",
       "            title=\"Suggest charts\"\n",
       "            style=\"display:none;\">\n",
       "\n",
       "<svg xmlns=\"http://www.w3.org/2000/svg\" height=\"24px\"viewBox=\"0 0 24 24\"\n",
       "     width=\"24px\">\n",
       "    <g>\n",
       "        <path d=\"M19 3H5c-1.1 0-2 .9-2 2v14c0 1.1.9 2 2 2h14c1.1 0 2-.9 2-2V5c0-1.1-.9-2-2-2zM9 17H7v-7h2v7zm4 0h-2V7h2v10zm4 0h-2v-4h2v4z\"/>\n",
       "    </g>\n",
       "</svg>\n",
       "  </button>\n",
       "\n",
       "<style>\n",
       "  .colab-df-quickchart {\n",
       "      --bg-color: #E8F0FE;\n",
       "      --fill-color: #1967D2;\n",
       "      --hover-bg-color: #E2EBFA;\n",
       "      --hover-fill-color: #174EA6;\n",
       "      --disabled-fill-color: #AAA;\n",
       "      --disabled-bg-color: #DDD;\n",
       "  }\n",
       "\n",
       "  [theme=dark] .colab-df-quickchart {\n",
       "      --bg-color: #3B4455;\n",
       "      --fill-color: #D2E3FC;\n",
       "      --hover-bg-color: #434B5C;\n",
       "      --hover-fill-color: #FFFFFF;\n",
       "      --disabled-bg-color: #3B4455;\n",
       "      --disabled-fill-color: #666;\n",
       "  }\n",
       "\n",
       "  .colab-df-quickchart {\n",
       "    background-color: var(--bg-color);\n",
       "    border: none;\n",
       "    border-radius: 50%;\n",
       "    cursor: pointer;\n",
       "    display: none;\n",
       "    fill: var(--fill-color);\n",
       "    height: 32px;\n",
       "    padding: 0;\n",
       "    width: 32px;\n",
       "  }\n",
       "\n",
       "  .colab-df-quickchart:hover {\n",
       "    background-color: var(--hover-bg-color);\n",
       "    box-shadow: 0 1px 2px rgba(60, 64, 67, 0.3), 0 1px 3px 1px rgba(60, 64, 67, 0.15);\n",
       "    fill: var(--button-hover-fill-color);\n",
       "  }\n",
       "\n",
       "  .colab-df-quickchart-complete:disabled,\n",
       "  .colab-df-quickchart-complete:disabled:hover {\n",
       "    background-color: var(--disabled-bg-color);\n",
       "    fill: var(--disabled-fill-color);\n",
       "    box-shadow: none;\n",
       "  }\n",
       "\n",
       "  .colab-df-spinner {\n",
       "    border: 2px solid var(--fill-color);\n",
       "    border-color: transparent;\n",
       "    border-bottom-color: var(--fill-color);\n",
       "    animation:\n",
       "      spin 1s steps(1) infinite;\n",
       "  }\n",
       "\n",
       "  @keyframes spin {\n",
       "    0% {\n",
       "      border-color: transparent;\n",
       "      border-bottom-color: var(--fill-color);\n",
       "      border-left-color: var(--fill-color);\n",
       "    }\n",
       "    20% {\n",
       "      border-color: transparent;\n",
       "      border-left-color: var(--fill-color);\n",
       "      border-top-color: var(--fill-color);\n",
       "    }\n",
       "    30% {\n",
       "      border-color: transparent;\n",
       "      border-left-color: var(--fill-color);\n",
       "      border-top-color: var(--fill-color);\n",
       "      border-right-color: var(--fill-color);\n",
       "    }\n",
       "    40% {\n",
       "      border-color: transparent;\n",
       "      border-right-color: var(--fill-color);\n",
       "      border-top-color: var(--fill-color);\n",
       "    }\n",
       "    60% {\n",
       "      border-color: transparent;\n",
       "      border-right-color: var(--fill-color);\n",
       "    }\n",
       "    80% {\n",
       "      border-color: transparent;\n",
       "      border-right-color: var(--fill-color);\n",
       "      border-bottom-color: var(--fill-color);\n",
       "    }\n",
       "    90% {\n",
       "      border-color: transparent;\n",
       "      border-bottom-color: var(--fill-color);\n",
       "    }\n",
       "  }\n",
       "</style>\n",
       "\n",
       "  <script>\n",
       "    async function quickchart(key) {\n",
       "      const quickchartButtonEl =\n",
       "        document.querySelector('#' + key + ' button');\n",
       "      quickchartButtonEl.disabled = true;  // To prevent multiple clicks.\n",
       "      quickchartButtonEl.classList.add('colab-df-spinner');\n",
       "      try {\n",
       "        const charts = await google.colab.kernel.invokeFunction(\n",
       "            'suggestCharts', [key], {});\n",
       "      } catch (error) {\n",
       "        console.error('Error during call to suggestCharts:', error);\n",
       "      }\n",
       "      quickchartButtonEl.classList.remove('colab-df-spinner');\n",
       "      quickchartButtonEl.classList.add('colab-df-quickchart-complete');\n",
       "    }\n",
       "    (() => {\n",
       "      let quickchartButtonEl =\n",
       "        document.querySelector('#df-7a55efca-2a29-4feb-a6d8-483dcf1f6f88 button');\n",
       "      quickchartButtonEl.style.display =\n",
       "        google.colab.kernel.accessAllowed ? 'block' : 'none';\n",
       "    })();\n",
       "  </script>\n",
       "</div>\n",
       "\n",
       "  <div id=\"id_830d5a22-1157-451b-a3c1-bf61ed2826fa\">\n",
       "    <style>\n",
       "      .colab-df-generate {\n",
       "        background-color: #E8F0FE;\n",
       "        border: none;\n",
       "        border-radius: 50%;\n",
       "        cursor: pointer;\n",
       "        display: none;\n",
       "        fill: #1967D2;\n",
       "        height: 32px;\n",
       "        padding: 0 0 0 0;\n",
       "        width: 32px;\n",
       "      }\n",
       "\n",
       "      .colab-df-generate:hover {\n",
       "        background-color: #E2EBFA;\n",
       "        box-shadow: 0px 1px 2px rgba(60, 64, 67, 0.3), 0px 1px 3px 1px rgba(60, 64, 67, 0.15);\n",
       "        fill: #174EA6;\n",
       "      }\n",
       "\n",
       "      [theme=dark] .colab-df-generate {\n",
       "        background-color: #3B4455;\n",
       "        fill: #D2E3FC;\n",
       "      }\n",
       "\n",
       "      [theme=dark] .colab-df-generate:hover {\n",
       "        background-color: #434B5C;\n",
       "        box-shadow: 0px 1px 3px 1px rgba(0, 0, 0, 0.15);\n",
       "        filter: drop-shadow(0px 1px 2px rgba(0, 0, 0, 0.3));\n",
       "        fill: #FFFFFF;\n",
       "      }\n",
       "    </style>\n",
       "    <button class=\"colab-df-generate\" onclick=\"generateWithVariable('dataset')\"\n",
       "            title=\"Generate code using this dataframe.\"\n",
       "            style=\"display:none;\">\n",
       "\n",
       "  <svg xmlns=\"http://www.w3.org/2000/svg\" height=\"24px\"viewBox=\"0 0 24 24\"\n",
       "       width=\"24px\">\n",
       "    <path d=\"M7,19H8.4L18.45,9,17,7.55,7,17.6ZM5,21V16.75L18.45,3.32a2,2,0,0,1,2.83,0l1.4,1.43a1.91,1.91,0,0,1,.58,1.4,1.91,1.91,0,0,1-.58,1.4L9.25,21ZM18.45,9,17,7.55Zm-12,3A5.31,5.31,0,0,0,4.9,8.1,5.31,5.31,0,0,0,1,6.5,5.31,5.31,0,0,0,4.9,4.9,5.31,5.31,0,0,0,6.5,1,5.31,5.31,0,0,0,8.1,4.9,5.31,5.31,0,0,0,12,6.5,5.46,5.46,0,0,0,6.5,12Z\"/>\n",
       "  </svg>\n",
       "    </button>\n",
       "    <script>\n",
       "      (() => {\n",
       "      const buttonEl =\n",
       "        document.querySelector('#id_830d5a22-1157-451b-a3c1-bf61ed2826fa button.colab-df-generate');\n",
       "      buttonEl.style.display =\n",
       "        google.colab.kernel.accessAllowed ? 'block' : 'none';\n",
       "\n",
       "      buttonEl.onclick = () => {\n",
       "        google.colab.notebook.generateWithVariable('dataset');\n",
       "      }\n",
       "      })();\n",
       "    </script>\n",
       "  </div>\n",
       "\n",
       "    </div>\n",
       "  </div>\n"
      ],
      "text/plain": [
       "        Rating                                             Review\n",
       "0            1                            3 yıldır tık demedi. :)\n",
       "1            1                      3 yıldır kullanıyorum müthiş \n",
       "2            1  Ürün bugün elime geçti çok fazla inceleme fırs...\n",
       "3            1  Almaya karar verdim. Hemencecik geldi. Keyifle...\n",
       "4            1  Günlük kullanımınızı çok çok iyi karsılıyor kı...\n",
       "...        ...                                                ...\n",
       "243492       1                                fiyatına göre güzel\n",
       "243493       1  Ürün kullanışlı iş görüyor fazlasıyla eşime al...\n",
       "243494       1                            Hızlı Kargo, güzel ürün\n",
       "243495       1  telefon başarılı hızlı bir cihaz  sadece beyaz...\n",
       "243496       1  Urun cok guzel pazar gunu siparis verdim adana...\n",
       "\n",
       "[243497 rows x 2 columns]"
      ]
     },
     "execution_count": 5,
     "metadata": {},
     "output_type": "execute_result"
    }
   ],
   "source": [
    "dataset"
   ]
  },
  {
   "cell_type": "code",
   "execution_count": 6,
   "metadata": {
    "executionInfo": {
     "elapsed": 268,
     "status": "ok",
     "timestamp": 1730531622231,
     "user": {
      "displayName": "Yusuf Evren AYKAÇ",
      "userId": "02771263071343472956"
     },
     "user_tz": -180
    },
    "id": "kXQRxbNPb93A"
   },
   "outputs": [],
   "source": [
    "rating = dataset['Rating'].values.tolist()\n",
    "review = dataset['Review'].values.tolist()"
   ]
  },
  {
   "cell_type": "code",
   "execution_count": 7,
   "metadata": {
    "executionInfo": {
     "elapsed": 281,
     "status": "ok",
     "timestamp": 1730531628404,
     "user": {
      "displayName": "Yusuf Evren AYKAÇ",
      "userId": "02771263071343472956"
     },
     "user_tz": -180
    },
    "id": "eG4hD8agcS-J"
   },
   "outputs": [],
   "source": [
    "portion = int(len(rating)*0.8)"
   ]
  },
  {
   "cell_type": "code",
   "execution_count": 8,
   "metadata": {
    "executionInfo": {
     "elapsed": 294,
     "status": "ok",
     "timestamp": 1730531630633,
     "user": {
      "displayName": "Yusuf Evren AYKAÇ",
      "userId": "02771263071343472956"
     },
     "user_tz": -180
    },
    "id": "9mxfO9Hkcoy6"
   },
   "outputs": [],
   "source": [
    "review_train = review[:portion]\n",
    "review_test = review[portion:]\n",
    "rating_train = rating[:portion]\n",
    "rating_test = rating[portion:]"
   ]
  },
  {
   "cell_type": "code",
   "execution_count": 9,
   "metadata": {
    "colab": {
     "base_uri": "https://localhost:8080/",
     "height": 35
    },
    "executionInfo": {
     "elapsed": 272,
     "status": "ok",
     "timestamp": 1730531637991,
     "user": {
      "displayName": "Yusuf Evren AYKAÇ",
      "userId": "02771263071343472956"
     },
     "user_tz": -180
    },
    "id": "VgHV0Sb6c3NI",
    "outputId": "318810f6-ea66-4f3a-8a4a-0db7f674b98a"
   },
   "outputs": [
    {
     "data": {
      "application/vnd.google.colaboratory.intrinsic+json": {
       "type": "string"
      },
      "text/plain": [
       "'ürün sipariş verdim 2 gün içinde elime ulaştı her zaman ki gibi kullanışlı bi ürün daha once de bu mouse dan almıştım.bu yüzden tereddütsüz aldım . alacak olanlara öneririm'"
      ]
     },
     "execution_count": 9,
     "metadata": {},
     "output_type": "execute_result"
    }
   ],
   "source": [
    "review_train[500]"
   ]
  },
  {
   "cell_type": "code",
   "execution_count": 10,
   "metadata": {
    "colab": {
     "base_uri": "https://localhost:8080/",
     "height": 52
    },
    "executionInfo": {
     "elapsed": 268,
     "status": "ok",
     "timestamp": 1730531640321,
     "user": {
      "displayName": "Yusuf Evren AYKAÇ",
      "userId": "02771263071343472956"
     },
     "user_tz": -180
    },
    "id": "y-UgNrB5c-f_",
    "outputId": "b6395ec7-efee-4572-8957-d6f3a4503c7c"
   },
   "outputs": [
    {
     "data": {
      "application/vnd.google.colaboratory.intrinsic+json": {
       "type": "string"
      },
      "text/plain": [
       "'ürünü alalı 3 hafta kadar oldu. aralıksız kullanıyorum bilgisyarım sürekli açık durur ve ben günde yaklaşık 12 saat başındayım mousesu çok kullanırım. şimdiye kadar bir problem yaşamadım ve çok memnunum almak isteyenlere tavsiye ederim.'"
      ]
     },
     "execution_count": 10,
     "metadata": {},
     "output_type": "execute_result"
    }
   ],
   "source": [
    "review_train[800]"
   ]
  },
  {
   "cell_type": "code",
   "execution_count": 11,
   "metadata": {
    "executionInfo": {
     "elapsed": 12038,
     "status": "ok",
     "timestamp": 1730531654322,
     "user": {
      "displayName": "Yusuf Evren AYKAÇ",
      "userId": "02771263071343472956"
     },
     "user_tz": -180
    },
    "id": "QsPhKWnLdGME"
   },
   "outputs": [],
   "source": [
    "# Tokenize the text data for training\n",
    "num_words = 10000\n",
    "tokenizer = Tokenizer(num_words=num_words)\n",
    "tokenizer.fit_on_texts(review)"
   ]
  },
  {
   "cell_type": "code",
   "execution_count": 12,
   "metadata": {
    "colab": {
     "base_uri": "https://localhost:8080/"
    },
    "executionInfo": {
     "elapsed": 305,
     "status": "ok",
     "timestamp": 1730531657323,
     "user": {
      "displayName": "Yusuf Evren AYKAÇ",
      "userId": "02771263071343472956"
     },
     "user_tz": -180
    },
    "id": "HHOM2Aatdq5q",
    "outputId": "cf22d1f0-f0fd-418a-f9c5-fc6cb0487921"
   },
   "outputs": [
    {
     "data": {
      "text/plain": [
       "{'çok': 1,\n",
       " 'bir': 2,\n",
       " 've': 3,\n",
       " 'ürün': 4,\n",
       " 'bu': 5,\n",
       " 'iyi': 6,\n",
       " 'güzel': 7,\n",
       " 'için': 8,\n",
       " 'tavsiye': 9,\n",
       " 'ederim': 10,\n",
       " 'daha': 11,\n",
       " 'ama': 12,\n",
       " 'da': 13,\n",
       " 'gayet': 14,\n",
       " 'hızlı': 15,\n",
       " 'teşekkürler': 16,\n",
       " 'aldım': 17,\n",
       " 'de': 18,\n",
       " 'ürünü': 19,\n",
       " 'gibi': 20,\n",
       " 'yok': 21,\n",
       " 'uygun': 22,\n",
       " 'olarak': 23,\n",
       " 'kaliteli': 24,\n",
       " 'en': 25,\n",
       " '2': 26,\n",
       " 'kargo': 27,\n",
       " 'fiyat': 28,\n",
       " 'elime': 29,\n",
       " 'kadar': 30,\n",
       " 'ile': 31,\n",
       " 'göre': 32,\n",
       " 'geldi': 33,\n",
       " 'var': 34,\n",
       " 'hepsiburada': 35,\n",
       " 'ben': 36,\n",
       " 'gerçekten': 37,\n",
       " '1': 38,\n",
       " 'fiyata': 39,\n",
       " 'gün': 40,\n",
       " 'sonra': 41,\n",
       " 'cok': 42,\n",
       " 'kesinlikle': 43,\n",
       " 'telefon': 44,\n",
       " 'biraz': 45,\n",
       " 'hiç': 46,\n",
       " 'ulaştı': 47,\n",
       " 'memnun': 48,\n",
       " 'hem': 49,\n",
       " 'değil': 50,\n",
       " 'kullanışlı': 51,\n",
       " '3': 52,\n",
       " 'mükemmel': 53,\n",
       " 'oldu': 54,\n",
       " 'kullanıyorum': 55,\n",
       " 'önce': 56,\n",
       " 'sipariş': 57,\n",
       " 'tek': 58,\n",
       " 'her': 59,\n",
       " 'bence': 60,\n",
       " 'harika': 61,\n",
       " 'kalitesi': 62,\n",
       " 'bi': 63,\n",
       " 'ayrıca': 64,\n",
       " '5': 65,\n",
       " 'teşekkür': 66,\n",
       " 'fiyatı': 67,\n",
       " 'olması': 68,\n",
       " 'ne': 69,\n",
       " 'herkese': 70,\n",
       " 'bile': 71,\n",
       " 'uzun': 72,\n",
       " 'süper': 73,\n",
       " 'tam': 74,\n",
       " 'zaten': 75,\n",
       " 'fazla': 76,\n",
       " 'ilk': 77,\n",
       " 'o': 78,\n",
       " 'başarılı': 79,\n",
       " 'fakat': 80,\n",
       " 'memnunum': 81,\n",
       " 'ancak': 82,\n",
       " 'ediyorum': 83,\n",
       " 'şarj': 84,\n",
       " 'saat': 85,\n",
       " 'fiyatına': 86,\n",
       " 'oldukça': 87,\n",
       " 'hemen': 88,\n",
       " 'şekilde': 89,\n",
       " 'ses': 90,\n",
       " 'hepsi': 91,\n",
       " 'gerek': 92,\n",
       " 'rahat': 93,\n",
       " 'aynı': 94,\n",
       " '4': 95,\n",
       " 'şık': 96,\n",
       " 'verdim': 97,\n",
       " 'kolay': 98,\n",
       " 'diye': 99,\n",
       " 'ki': 100,\n",
       " 'sadece': 101,\n",
       " 'kaldım': 102,\n",
       " 'diğer': 103,\n",
       " 'büyük': 104,\n",
       " 'sorun': 105,\n",
       " 'alın': 106,\n",
       " 'burada': 107,\n",
       " 'kısa': 108,\n",
       " 'ürünün': 109,\n",
       " 'sorunsuz': 110,\n",
       " 'performans': 111,\n",
       " 'içinde': 112,\n",
       " 'olan': 113,\n",
       " 'günde': 114,\n",
       " 'olsun': 115,\n",
       " 'küçük': 116,\n",
       " 'urun': 117,\n",
       " '10': 118,\n",
       " 'benim': 119,\n",
       " 'başka': 120,\n",
       " 'iki': 121,\n",
       " 'olduğu': 122,\n",
       " 'teslimat': 123,\n",
       " 'com': 124,\n",
       " 'arkadaşlar': 125,\n",
       " 'sağlam': 126,\n",
       " 'oluyor': 127,\n",
       " 'teslim': 128,\n",
       " 'ettim': 129,\n",
       " 'zaman': 130,\n",
       " 'kalite': 131,\n",
       " 'almak': 132,\n",
       " 'az': 133,\n",
       " 'telefonu': 134,\n",
       " 'yeni': 135,\n",
       " 'cihaz': 136,\n",
       " 'marka': 137,\n",
       " 'son': 138,\n",
       " 'koku': 139,\n",
       " 'ise': 140,\n",
       " 'kullandım': 141,\n",
       " 'kokusu': 142,\n",
       " 'derim': 143,\n",
       " 'olduğunu': 144,\n",
       " 'özellikle': 145,\n",
       " 'beğendim': 146,\n",
       " 'sıkıntı': 147,\n",
       " 'ucuz': 148,\n",
       " 'rağmen': 149,\n",
       " 'geçti': 150,\n",
       " 'geliyor': 151,\n",
       " 'guzel': 152,\n",
       " 'bana': 153,\n",
       " 'ya': 154,\n",
       " 'ideal': 155,\n",
       " 'orjinal': 156,\n",
       " 'almıştım': 157,\n",
       " 'yeterli': 158,\n",
       " 'tane': 159,\n",
       " 'hediye': 160,\n",
       " 'sürede': 161,\n",
       " 'yani': 162,\n",
       " 'normal': 163,\n",
       " 'yaklaşık': 164,\n",
       " 'ediyor': 165,\n",
       " 'hafif': 166,\n",
       " 'bunu': 167,\n",
       " 'ekran': 168,\n",
       " 'aldığım': 169,\n",
       " 'veriyor': 170,\n",
       " '6': 171,\n",
       " 'yüksek': 172,\n",
       " 'tüm': 173,\n",
       " 'pişman': 174,\n",
       " 'tercih': 175,\n",
       " 'düşünmeden': 176,\n",
       " 'kötü': 177,\n",
       " 'düşünüyorum': 178,\n",
       " 'numara': 179,\n",
       " 'bi̇r': 180,\n",
       " 'süre': 181,\n",
       " 'kullanımı': 182,\n",
       " 'çıktı': 183,\n",
       " 'günü': 184,\n",
       " 'su': 185,\n",
       " 'adet': 186,\n",
       " 'şey': 187,\n",
       " 'hemde': 188,\n",
       " 'icin': 189,\n",
       " 'hizli': 190,\n",
       " 'çalışıyor': 191,\n",
       " 'ay': 192,\n",
       " 'hb': 193,\n",
       " 'hafta': 194,\n",
       " 'sesi': 195,\n",
       " 'alışveriş': 196,\n",
       " 'farklı': 197,\n",
       " 'kitap': 198,\n",
       " 'yine': 199,\n",
       " 'böyle': 200,\n",
       " 'zor': 201,\n",
       " 'alabilirsiniz': 202,\n",
       " 'hızı': 203,\n",
       " 'çünkü': 204,\n",
       " 'para': 205,\n",
       " 'ertesi': 206,\n",
       " 'bende': 207,\n",
       " 'kullanım': 208,\n",
       " 'sürekli': 209,\n",
       " 'duruyor': 210,\n",
       " 'aldim': 211,\n",
       " 'olur': 212,\n",
       " 'hoş': 213,\n",
       " 'artık': 214,\n",
       " 'yapıyor': 215,\n",
       " 'konusunda': 216,\n",
       " 'yorumlara': 217,\n",
       " 'gönderi': 218,\n",
       " 'olsa': 219,\n",
       " 'gücü': 220,\n",
       " 'şu': 221,\n",
       " 'vardı': 222,\n",
       " 'üründen': 223,\n",
       " 'malzeme': 224,\n",
       " 'biri': 225,\n",
       " 'pratik': 226,\n",
       " 'dışında': 227,\n",
       " 'defa': 228,\n",
       " 'kullandığım': 229,\n",
       " 'şimdi': 230,\n",
       " 'diş': 231,\n",
       " 'samsung': 232,\n",
       " 'onun': 233,\n",
       " 'bugün': 234,\n",
       " 'özelliği': 235,\n",
       " 'iş': 236,\n",
       " 'kurulumu': 237,\n",
       " 'tereddüt': 238,\n",
       " 'şarjı': 239,\n",
       " 'i̇lk': 240,\n",
       " '7': 241,\n",
       " 'ince': 242,\n",
       " 'gelen': 243,\n",
       " 'kullanmaya': 244,\n",
       " 'diyebilirim': 245,\n",
       " 'almayı': 246,\n",
       " 'pek': 247,\n",
       " 'aldık': 248,\n",
       " 'denedim': 249,\n",
       " '8': 250,\n",
       " 'tekrar': 251,\n",
       " 'çabuk': 252,\n",
       " 'karar': 253,\n",
       " 'kez': 254,\n",
       " 'sahip': 255,\n",
       " 'kendi': 256,\n",
       " 'basit': 257,\n",
       " 'dolayı': 258,\n",
       " 'derece': 259,\n",
       " 'veya': 260,\n",
       " 'kamera': 261,\n",
       " 'pil': 262,\n",
       " 'hiçbir': 263,\n",
       " 'öncelikle': 264,\n",
       " 'açısından': 265,\n",
       " 'iphone': 266,\n",
       " 'sonuç': 267,\n",
       " 'yanında': 268,\n",
       " 'sessiz': 269,\n",
       " 'pahalı': 270,\n",
       " 'işe': 271,\n",
       " 'gidiyor': 272,\n",
       " 'dan': 273,\n",
       " 'olmadı': 274,\n",
       " 'öyle': 275,\n",
       " 'tesekkurler': 276,\n",
       " 'bunun': 277,\n",
       " 'beni': 278,\n",
       " 'varsa': 279,\n",
       " 'yer': 280,\n",
       " 'gece': 281,\n",
       " 'zamanında': 282,\n",
       " 'yorum': 283,\n",
       " 'performansı': 284,\n",
       " 'parfüm': 285,\n",
       " 'evde': 286,\n",
       " 'belli': 287,\n",
       " 'eğer': 288,\n",
       " 'oyun': 289,\n",
       " 'ağır': 290,\n",
       " 'iyisi': 291,\n",
       " 'arada': 292,\n",
       " 'mutlaka': 293,\n",
       " 'zamanda': 294,\n",
       " 'usb': 295,\n",
       " 'ufak': 296,\n",
       " 'üzerinde': 297,\n",
       " 'hatta': 298,\n",
       " 'fark': 299,\n",
       " 'gönül': 300,\n",
       " 'paketleme': 301,\n",
       " 'eşim': 302,\n",
       " 'alacak': 303,\n",
       " '15': 304,\n",
       " 'gereken': 305,\n",
       " 'doğru': 306,\n",
       " 'eski': 307,\n",
       " 'herhangi': 308,\n",
       " 'aydır': 309,\n",
       " 'tl': 310,\n",
       " 'kalıcı': 311,\n",
       " 'rahatlıkla': 312,\n",
       " 'vs': 313,\n",
       " 'satın': 314,\n",
       " 'alınabilecek': 315,\n",
       " 'bundan': 316,\n",
       " 'farkı': 317,\n",
       " 'görüntü': 318,\n",
       " 'lazım': 319,\n",
       " 'gercekten': 320,\n",
       " 'şiddetle': 321,\n",
       " 'kullanmak': 322,\n",
       " 'kaçırmayın': 323,\n",
       " 'alırken': 324,\n",
       " 'kargoya': 325,\n",
       " 'yaşamadım': 326,\n",
       " 'mi': 327,\n",
       " 'yaptım': 328,\n",
       " 'prima': 329,\n",
       " 'birlikte': 330,\n",
       " 'gördüm': 331,\n",
       " 'gerekiyor': 332,\n",
       " 'telefonun': 333,\n",
       " 'ürünler': 334,\n",
       " 'ayrı': 335,\n",
       " 'önemli': 336,\n",
       " 'sayesinde': 337,\n",
       " 'bütün': 338,\n",
       " 'yıl': 339,\n",
       " 'gb': 340,\n",
       " 'alalı': 341,\n",
       " 'beklediğimden': 342,\n",
       " 'almaya': 343,\n",
       " 'yerde': 344,\n",
       " 'olmasına': 345,\n",
       " 'tv': 346,\n",
       " 'sabah': 347,\n",
       " 'devam': 348,\n",
       " 'kutu': 349,\n",
       " 'henüz': 350,\n",
       " 'falan': 351,\n",
       " 'sorunu': 352,\n",
       " 'tabi': 353,\n",
       " 'a': 354,\n",
       " '20': 355,\n",
       " 'bakarak': 356,\n",
       " 'sanırım': 357,\n",
       " 'hepsiburadaya': 358,\n",
       " 'kulaklık': 359,\n",
       " 'süresi': 360,\n",
       " 'hala': 361,\n",
       " 'muhteşem': 362,\n",
       " 'dikkat': 363,\n",
       " 'güvenilir': 364,\n",
       " 'rahatsız': 365,\n",
       " 'edilir': 366,\n",
       " 'çıkıyor': 367,\n",
       " 'alıp': 368,\n",
       " 'yüzden': 369,\n",
       " 'toz': 370,\n",
       " 'kere': 371,\n",
       " 'orijinal': 372,\n",
       " 'sağlıyor': 373,\n",
       " 'kamerası': 374,\n",
       " 'dün': 375,\n",
       " 'ürüne': 376,\n",
       " 'düşük': 377,\n",
       " 'spor': 378,\n",
       " 'i̇yi': 379,\n",
       " 'problem': 380,\n",
       " 'öneririm': 381,\n",
       " 'edildi': 382,\n",
       " 'plastik': 383,\n",
       " 'içerisinde': 384,\n",
       " 'makine': 385,\n",
       " 'beri': 386,\n",
       " 'fazlasıyla': 387,\n",
       " 'baya': 388,\n",
       " 'kullanımda': 389,\n",
       " '30': 390,\n",
       " 'tavsi̇ye': 391,\n",
       " 'an': 392,\n",
       " 'yalnız': 393,\n",
       " 'özellikleri': 394,\n",
       " 'on': 395,\n",
       " 'den': 396,\n",
       " 'satıcı': 397,\n",
       " 'ilgili': 398,\n",
       " 'genel': 399,\n",
       " 'oldum': 400,\n",
       " 'kaç': 401,\n",
       " 'etkili': 402,\n",
       " 'sıcak': 403,\n",
       " 'haftadır': 404,\n",
       " 'üstelik': 405,\n",
       " 'fiyatıda': 406,\n",
       " 'olmuş': 407,\n",
       " '24': 408,\n",
       " 'yada': 409,\n",
       " 'hep': 410,\n",
       " 'üst': 411,\n",
       " 'olabilir': 412,\n",
       " 'paket': 413,\n",
       " 'bazı': 414,\n",
       " 'almışım': 415,\n",
       " 'güçlü': 416,\n",
       " 'piyasada': 417,\n",
       " 'yerine': 418,\n",
       " 'arasında': 419,\n",
       " 'renk': 420,\n",
       " 'inanılmaz': 421,\n",
       " 'arkadaşlara': 422,\n",
       " 'paraya': 423,\n",
       " 'kurulum': 424,\n",
       " 'umarım': 425,\n",
       " 'sert': 426,\n",
       " 'kitabı': 427,\n",
       " 'ederi̇m': 428,\n",
       " 'olmuyor': 429,\n",
       " 'fena': 430,\n",
       " 'gitti': 431,\n",
       " 'servis': 432,\n",
       " 'altında': 433,\n",
       " 'üzerine': 434,\n",
       " 'nasıl': 435,\n",
       " 'birde': 436,\n",
       " 'ye': 437,\n",
       " 'gelince': 438,\n",
       " 'birşey': 439,\n",
       " 'note': 440,\n",
       " 'yorumları': 441,\n",
       " 'başladım': 442,\n",
       " 'olanlar': 443,\n",
       " 'ön': 444,\n",
       " '0': 445,\n",
       " 'dk': 446,\n",
       " 'üründe': 447,\n",
       " 'sanki': 448,\n",
       " 'kalitesini': 449,\n",
       " 'i̇yi̇': 450,\n",
       " 'sarj': 451,\n",
       " 'almadan': 452,\n",
       " 'etti': 453,\n",
       " 'alıyorum': 454,\n",
       " 'ev': 455,\n",
       " 'cihazı': 456,\n",
       " 'kullanıyoruz': 457,\n",
       " 'geç': 458,\n",
       " 'eşime': 459,\n",
       " 'görünce': 460,\n",
       " 'memnunuz': 461,\n",
       " 'yıldır': 462,\n",
       " 'edici': 463,\n",
       " 'bez': 464,\n",
       " 'arka': 465,\n",
       " 'saatte': 466,\n",
       " 'anda': 467,\n",
       " 'tamamen': 468,\n",
       " 'hizmet': 469,\n",
       " 'çekim': 470,\n",
       " 'herkes': 471,\n",
       " 'parmak': 472,\n",
       " 'akşam': 473,\n",
       " 'tutuyor': 474,\n",
       " 'geçen': 475,\n",
       " 'gore': 476,\n",
       " 'android': 477,\n",
       " 'elimize': 478,\n",
       " '12': 479,\n",
       " 'telefona': 480,\n",
       " 'temizlik': 481,\n",
       " 'görünüyor': 482,\n",
       " 'yumuşak': 483,\n",
       " 'kablo': 484,\n",
       " 'buradan': 485,\n",
       " '100': 486,\n",
       " 'kısmı': 487,\n",
       " 'size': 488,\n",
       " 'orta': 489,\n",
       " 'piyasadaki': 490,\n",
       " 'net': 491,\n",
       " 'hak': 492,\n",
       " 'yere': 493,\n",
       " 'günlük': 494,\n",
       " 'beğendi': 495,\n",
       " 'rahatlığıyla': 496,\n",
       " 'eder': 497,\n",
       " 'hız': 498,\n",
       " 'müzik': 499,\n",
       " 'kalın': 500,\n",
       " 'siyah': 501,\n",
       " 'urunu': 502,\n",
       " 'degil': 503,\n",
       " 'bedava': 504,\n",
       " 'istediğim': 505,\n",
       " 'oğlum': 506,\n",
       " 'saç': 507,\n",
       " 'güvenli': 508,\n",
       " 'kılıf': 509,\n",
       " 'onu': 510,\n",
       " 'yıldız': 511,\n",
       " 'yoksa': 512,\n",
       " 'çıkan': 513,\n",
       " 'hesaplı': 514,\n",
       " 'etmeden': 515,\n",
       " 'hava': 516,\n",
       " 'piyasaya': 517,\n",
       " 'kilo': 518,\n",
       " 'ışık': 519,\n",
       " 'neredeyse': 520,\n",
       " 'fotoğraf': 521,\n",
       " 'i̇çi̇n': 522,\n",
       " 'tşk': 523,\n",
       " 'belki': 524,\n",
       " 'olurdu': 525,\n",
       " 'kablosu': 526,\n",
       " 'bır': 527,\n",
       " 'mı': 528,\n",
       " 'gündür': 529,\n",
       " 'temiz': 530,\n",
       " 'garantili': 531,\n",
       " 'içine': 532,\n",
       " 'alınabilir': 533,\n",
       " 'herşey': 534,\n",
       " 'almanızı': 535,\n",
       " 'siparişi': 536,\n",
       " 'olmaz': 537,\n",
       " 'keşke': 538,\n",
       " 'kendini': 539,\n",
       " 'olacak': 540,\n",
       " 'yakın': 541,\n",
       " 'rengi': 542,\n",
       " 'gun': 543,\n",
       " 'süpürge': 544,\n",
       " 'traş': 545,\n",
       " 'çift': 546,\n",
       " 'şuan': 547,\n",
       " 'gönderim': 548,\n",
       " 'buna': 549,\n",
       " 'motor': 550,\n",
       " 'birkaç': 551,\n",
       " 'hoşuma': 552,\n",
       " 'tasarımı': 553,\n",
       " 'kaldık': 554,\n",
       " 'verdiğim': 555,\n",
       " 'hic': 556,\n",
       " 'değer': 557,\n",
       " 'yağ': 558,\n",
       " 'ekonomik': 559,\n",
       " 'dedim': 560,\n",
       " 'tatmin': 561,\n",
       " 'isteyenlere': 562,\n",
       " 'içinden': 563,\n",
       " 'araştırdım': 564,\n",
       " 'oda': 565,\n",
       " 'yıllardır': 566,\n",
       " 'mevcut': 567,\n",
       " 'kızım': 568,\n",
       " 'kalıyor': 569,\n",
       " 'yapmak': 570,\n",
       " 'buldum': 571,\n",
       " 'şimdilik': 572,\n",
       " 'yanı': 573,\n",
       " 'makina': 574,\n",
       " 'görüyor': 575,\n",
       " 'model': 576,\n",
       " 'kargoda': 577,\n",
       " 'kaldı': 578,\n",
       " '9': 579,\n",
       " 'üstünde': 580,\n",
       " 'avantaj': 581,\n",
       " 'sizi': 582,\n",
       " 'alet': 583,\n",
       " 'müthiş': 584,\n",
       " 'metal': 585,\n",
       " 'ürünleri': 586,\n",
       " 'mouse': 587,\n",
       " 'beraber': 588,\n",
       " 'bebek': 589,\n",
       " 'kullanıyordum': 590,\n",
       " 'geri': 591,\n",
       " 'ederiz': 592,\n",
       " 'başta': 593,\n",
       " 'makul': 594,\n",
       " 'olmazsınız': 595,\n",
       " 'apple': 596,\n",
       " 'yaptı': 597,\n",
       " 'okudum': 598,\n",
       " 'elimde': 599,\n",
       " 'görür': 600,\n",
       " 'olduğundan': 601,\n",
       " 'fiyatının': 602,\n",
       " 'açık': 603,\n",
       " 'üzerinden': 604,\n",
       " 'aşırı': 605,\n",
       " 'özellik': 606,\n",
       " 'e': 607,\n",
       " 'olanlara': 608,\n",
       " 'izi': 609,\n",
       " 'garanti': 610,\n",
       " 'film': 611,\n",
       " 'biz': 612,\n",
       " 'yavaş': 613,\n",
       " 'ucuza': 614,\n",
       " 'bişey': 615,\n",
       " 'tartışılmaz': 616,\n",
       " 'sene': 617,\n",
       " 'super': 618,\n",
       " 'site': 619,\n",
       " 'birçok': 620,\n",
       " 'ücretsiz': 621,\n",
       " 'sonunda': 622,\n",
       " 'ısınma': 623,\n",
       " 'saati': 624,\n",
       " 'batarya': 625,\n",
       " 'kapalı': 626,\n",
       " 'olumsuz': 627,\n",
       " 'alan': 628,\n",
       " 'hediyesi': 629,\n",
       " 'kullaniyorum': 630,\n",
       " 'yapmıyor': 631,\n",
       " 'eve': 632,\n",
       " 'evet': 633,\n",
       " 'önceki': 634,\n",
       " 'sık': 635,\n",
       " 'hakkını': 636,\n",
       " 'beklediğim': 637,\n",
       " 'kelimeyle': 638,\n",
       " 'beyaz': 639,\n",
       " 'zorunda': 640,\n",
       " 'üç': 641,\n",
       " 'kat': 642,\n",
       " 'telefonda': 643,\n",
       " 'tasarım': 644,\n",
       " 'dakika': 645,\n",
       " 'etmek': 646,\n",
       " 'uyumlu': 647,\n",
       " 'önceden': 648,\n",
       " 'olunca': 649,\n",
       " 'severek': 650,\n",
       " 'isteyenler': 651,\n",
       " 'diyorum': 652,\n",
       " 'çanta': 653,\n",
       " 'el': 654,\n",
       " 'istedim': 655,\n",
       " 'iyiki': 656,\n",
       " 'kullanın': 657,\n",
       " 'yoktu': 658,\n",
       " 'sıkıntısı': 659,\n",
       " 'ikinci': 660,\n",
       " 'yorumlarda': 661,\n",
       " 'çekiyor': 662,\n",
       " 'bilmiyorum': 663,\n",
       " 'kullanma': 664,\n",
       " 'araç': 665,\n",
       " 'edin': 666,\n",
       " 'görüntüsü': 667,\n",
       " 'firma': 668,\n",
       " 'alıyor': 669,\n",
       " 'hepsi̇burada': 670,\n",
       " 'alt': 671,\n",
       " 'olmadan': 672,\n",
       " 'bazen': 673,\n",
       " 'dayanıklı': 674,\n",
       " 'olmaması': 675,\n",
       " 'ona': 676,\n",
       " 'iade': 677,\n",
       " 'fiyatlı': 678,\n",
       " 'internet': 679,\n",
       " 'geniş': 680,\n",
       " 'philips': 681,\n",
       " 'koltuk': 682,\n",
       " 'elimdeydi': 683,\n",
       " 'kullanan': 684,\n",
       " 'yaparken': 685,\n",
       " 'derecede': 686,\n",
       " 'asla': 687,\n",
       " '16': 688,\n",
       " 'kalitede': 689,\n",
       " 'taktım': 690,\n",
       " 'resmen': 691,\n",
       " 'eden': 692,\n",
       " 'halde': 693,\n",
       " 'merhaba': 694,\n",
       " 'mukemmel': 695,\n",
       " 'hassas': 696,\n",
       " 'başladı': 697,\n",
       " 'zarar': 698,\n",
       " 'kalitesiz': 699,\n",
       " 'aylık': 700,\n",
       " 'açıkçası': 701,\n",
       " 'mutlu': 702,\n",
       " 'alin': 703,\n",
       " 'yeri': 704,\n",
       " 'ram': 705,\n",
       " 'neden': 706,\n",
       " 'eksiksiz': 707,\n",
       " 'paketlenmiş': 708,\n",
       " 'idi': 709,\n",
       " 'idare': 710,\n",
       " 'iyiydi': 711,\n",
       " 'olabilirdi': 712,\n",
       " 'yarıyor': 713,\n",
       " 'gerekli': 714,\n",
       " 'olduğum': 715,\n",
       " '50': 716,\n",
       " 'parfümü': 717,\n",
       " 'buradaya': 718,\n",
       " 'kelime': 719,\n",
       " 'herkesin': 720,\n",
       " 'olmasi': 721,\n",
       " 'ara': 722,\n",
       " 'verildi': 723,\n",
       " 'yoğun': 724,\n",
       " 'etkisi': 725,\n",
       " 'vermeye': 726,\n",
       " 'saçlarım': 727,\n",
       " 'siz': 728,\n",
       " 'kullanıyor': 729,\n",
       " 'b': 730,\n",
       " '40': 731,\n",
       " 'zamandır': 732,\n",
       " 'yapan': 733,\n",
       " 'olmayan': 734,\n",
       " 'yorumlar': 735,\n",
       " 'ayrica': 736,\n",
       " 'yinede': 737,\n",
       " 'kendim': 738,\n",
       " 'ulasti': 739,\n",
       " 'hafıza': 740,\n",
       " 'etmiyor': 741,\n",
       " 'almış': 742,\n",
       " 'yapılmış': 743,\n",
       " 'verdikten': 744,\n",
       " 'kendime': 745,\n",
       " 'yedek': 746,\n",
       " 'düşünenlere': 747,\n",
       " 'durum': 748,\n",
       " 'sonuçta': 749,\n",
       " 'yerden': 750,\n",
       " 'etmiyorum': 751,\n",
       " 'video': 752,\n",
       " 'çekiş': 753,\n",
       " 'cuma': 754,\n",
       " 'cam': 755,\n",
       " 'uygulama': 756,\n",
       " 'içi': 757,\n",
       " 'işi': 758,\n",
       " 'eksik': 759,\n",
       " 'ihtiyacı': 760,\n",
       " 'eksiği': 761,\n",
       " 'faydalı': 762,\n",
       " 'göz': 763,\n",
       " 'deneme': 764,\n",
       " 'isteyen': 765,\n",
       " 'acaba': 766,\n",
       " 'kısacası': 767,\n",
       " 'kullanabilirsiniz': 768,\n",
       " 'merak': 769,\n",
       " 'temizliyor': 770,\n",
       " 'ürünle': 771,\n",
       " 'rahatlığı': 772,\n",
       " 'p': 773,\n",
       " 'türkiye': 774,\n",
       " 'hepsiburadadan': 775,\n",
       " 'aldı': 776,\n",
       " 'görmedim': 777,\n",
       " 'test': 778,\n",
       " 'ana': 779,\n",
       " 'aldıktan': 780,\n",
       " 'aleti': 781,\n",
       " 'şimdiye': 782,\n",
       " 'yapıyorum': 783,\n",
       " 'olumlu': 784,\n",
       " 'hakkında': 785,\n",
       " 'piyasa': 786,\n",
       " 'ekranı': 787,\n",
       " 'mümkün': 788,\n",
       " 'kış': 789,\n",
       " 'siparis': 790,\n",
       " 'd': 791,\n",
       " 'malı': 792,\n",
       " 'elinize': 793,\n",
       " 'km': 794,\n",
       " 'gösteriyor': 795,\n",
       " 'haricinde': 796,\n",
       " 'donma': 797,\n",
       " 'denemek': 798,\n",
       " 'türlü': 799,\n",
       " 'i': 800,\n",
       " 'alacaklara': 801,\n",
       " 'elde': 802,\n",
       " 'dış': 803,\n",
       " 'dokunmatik': 804,\n",
       " 'gerçek': 805,\n",
       " 'tabiki': 806,\n",
       " 'ürünlere': 807,\n",
       " 'boyutu': 808,\n",
       " 'hissi': 809,\n",
       " 'söyleyebilirim': 810,\n",
       " 'cabası': 811,\n",
       " 'kaldim': 812,\n",
       " 'emiş': 813,\n",
       " 'kanal': 814,\n",
       " 'takip': 815,\n",
       " 'problemi': 816,\n",
       " 'tavsiyem': 817,\n",
       " 'kargolama': 818,\n",
       " 'aslında': 819,\n",
       " 'dahi': 820,\n",
       " 'yardımcı': 821,\n",
       " 'akıcı': 822,\n",
       " 'ütü': 823,\n",
       " 'konuda': 824,\n",
       " 'hayırlı': 825,\n",
       " 'değilim': 826,\n",
       " 'herkeze': 827,\n",
       " 'karşı': 828,\n",
       " 'markanın': 829,\n",
       " 'kutusu': 830,\n",
       " 'elektrik': 831,\n",
       " 'yaz': 832,\n",
       " 'yerli': 833,\n",
       " 'tavsıye': 834,\n",
       " 'emin': 835,\n",
       " 's': 836,\n",
       " 'lg': 837,\n",
       " 'once': 838,\n",
       " 'araba': 839,\n",
       " 'pazartesi': 840,\n",
       " 'f': 841,\n",
       " 'kullandıktan': 842,\n",
       " 'yatak': 843,\n",
       " 'zarif': 844,\n",
       " 'gelir': 845,\n",
       " 'beden': 846,\n",
       " 'özel': 847,\n",
       " 'ciddi': 848,\n",
       " 'kontrol': 849,\n",
       " 'olmak': 850,\n",
       " 'i̇ki': 851,\n",
       " 'zamanla': 852,\n",
       " 'fayda': 853,\n",
       " 'istiyorsanız': 854,\n",
       " 'bağlantı': 855,\n",
       " 'sıfır': 856,\n",
       " 'çıkmadı': 857,\n",
       " 'ayni': 858,\n",
       " 'parasını': 859,\n",
       " 'fön': 860,\n",
       " 'anladım': 861,\n",
       " 'düzgün': 862,\n",
       " 'olmadığı': 863,\n",
       " 'fiyatını': 864,\n",
       " 'kibar': 865,\n",
       " 'veren': 866,\n",
       " 'sağlıklı': 867,\n",
       " 'birisi': 868,\n",
       " 'soğuk': 869,\n",
       " 'montaj': 870,\n",
       " 'klasik': 871,\n",
       " 'parça': 872,\n",
       " 'yarım': 873,\n",
       " 'telefondan': 874,\n",
       " 'okuma': 875,\n",
       " 'makinesi': 876,\n",
       " 'verilen': 877,\n",
       " 'düzenli': 878,\n",
       " 'düşünmeyin': 879,\n",
       " 'kullanılabilir': 880,\n",
       " 'koruyucu': 881,\n",
       " 'anneme': 882,\n",
       " 'hale': 883,\n",
       " 'ömrü': 884,\n",
       " 'kalitesine': 885,\n",
       " 'bulmak': 886,\n",
       " 'kullanmadım': 887,\n",
       " 'saglam': 888,\n",
       " 'normalde': 889,\n",
       " 'cm': 890,\n",
       " 'xiaomi': 891,\n",
       " 'beklemeyin': 892,\n",
       " 'çoğu': 893,\n",
       " 'pili': 894,\n",
       " 'çocuk': 895,\n",
       " 'bakımından': 896,\n",
       " 'birebir': 897,\n",
       " 'yazma': 898,\n",
       " 'boyu': 899,\n",
       " 'hareket': 900,\n",
       " 'siteden': 901,\n",
       " 'cihazın': 902,\n",
       " 'led': 903,\n",
       " 'tahmin': 904,\n",
       " 'kapak': 905,\n",
       " 'bilgisayar': 906,\n",
       " 'ısınıyor': 907,\n",
       " 'eksi': 908,\n",
       " 'gelmesi': 909,\n",
       " 'kalmadı': 910,\n",
       " 'begendim': 911,\n",
       " 'kullanisli': 912,\n",
       " 'verip': 913,\n",
       " 'günden': 914,\n",
       " 'kaçmaz': 915,\n",
       " 'sürükleyici': 916,\n",
       " 'sonucu': 917,\n",
       " 'markası': 918,\n",
       " 'indirim': 919,\n",
       " 'oranı': 920,\n",
       " 'arkadaşım': 921,\n",
       " 'telefonum': 922,\n",
       " 'temizliği': 923,\n",
       " 'şarjlı': 924,\n",
       " 'kullanırken': 925,\n",
       " 'zayıf': 926,\n",
       " 'tesekkur': 927,\n",
       " 'çıkarıyor': 928,\n",
       " 'karşıladı': 929,\n",
       " 'sistemi': 930,\n",
       " 'akıllı': 931,\n",
       " 'ortalama': 932,\n",
       " 'direk': 933,\n",
       " 'alınır': 934,\n",
       " 'olsaydı': 935,\n",
       " 'arkadaslar': 936,\n",
       " 'profesyonel': 937,\n",
       " 'boşuna': 938,\n",
       " 'hd': 939,\n",
       " 'sony': 940,\n",
       " 'iç': 941,\n",
       " 'ekstra': 942,\n",
       " 'yi': 943,\n",
       " 'kuru': 944,\n",
       " 'sonrası': 945,\n",
       " 'almayın': 946,\n",
       " 'lik': 947,\n",
       " 'kusursuz': 948,\n",
       " 'başlık': 949,\n",
       " 'seviyede': 950,\n",
       " 'bluetooth': 951,\n",
       " 'kullanmıştım': 952,\n",
       " 'burda': 953,\n",
       " 'genelde': 954,\n",
       " 'kokuyu': 955,\n",
       " 'olacağını': 956,\n",
       " 'siparişim': 957,\n",
       " 'burdan': 958,\n",
       " 'kampanya': 959,\n",
       " 'nin': 960,\n",
       " 'olanı': 961,\n",
       " 'vestel': 962,\n",
       " 'alacağım': 963,\n",
       " 'tarafı': 964,\n",
       " 'insan': 965,\n",
       " 'artı': 966,\n",
       " 'paketi': 967,\n",
       " 'ayarı': 968,\n",
       " 'karşılıyor': 969,\n",
       " 'üstüne': 970,\n",
       " 'premium': 971,\n",
       " 'kalıcılığı': 972,\n",
       " 'eminim': 973,\n",
       " 'olup': 974,\n",
       " 'ürünlerden': 975,\n",
       " 'malzemesi': 976,\n",
       " 'mavi': 977,\n",
       " 'buradaki': 978,\n",
       " 'markalara': 979,\n",
       " 'parlak': 980,\n",
       " 'söz': 981,\n",
       " 'ergonomik': 982,\n",
       " 'yaptığım': 983,\n",
       " 'kendisi': 984,\n",
       " 'düşünen': 985,\n",
       " 'hızlıydı': 986,\n",
       " 'kasma': 987,\n",
       " 'fiyatta': 988,\n",
       " 'enerji': 989,\n",
       " 'kolayca': 990,\n",
       " 'yan': 991,\n",
       " 'pc': 992,\n",
       " '00': 993,\n",
       " 'bol': 994,\n",
       " 'kablosuz': 995,\n",
       " 'full': 996,\n",
       " 'işinizi': 997,\n",
       " 'modeli': 998,\n",
       " 'oturuyor': 999,\n",
       " 'kişi': 1000,\n",
       " ...}"
      ]
     },
     "execution_count": 12,
     "metadata": {},
     "output_type": "execute_result"
    }
   ],
   "source": [
    "# Tokenize the text data for training\n",
    "tokenizer.word_index"
   ]
  },
  {
   "cell_type": "code",
   "execution_count": 13,
   "metadata": {
    "executionInfo": {
     "elapsed": 8377,
     "status": "ok",
     "timestamp": 1730531669722,
     "user": {
      "displayName": "Yusuf Evren AYKAÇ",
      "userId": "02771263071343472956"
     },
     "user_tz": -180
    },
    "id": "phyAix6deAB4"
   },
   "outputs": [],
   "source": [
    "# Tokenize the text data for training\n",
    "review_train_tokens = tokenizer.texts_to_sequences(review_train)\n",
    "review_test_tokens = tokenizer.texts_to_sequences(review_test)"
   ]
  },
  {
   "cell_type": "code",
   "execution_count": 14,
   "metadata": {
    "colab": {
     "base_uri": "https://localhost:8080/",
     "height": 52
    },
    "executionInfo": {
     "elapsed": 266,
     "status": "ok",
     "timestamp": 1730531682393,
     "user": {
      "displayName": "Yusuf Evren AYKAÇ",
      "userId": "02771263071343472956"
     },
     "user_tz": -180
    },
    "id": "m55rlhiOeZeJ",
    "outputId": "e5ee77bd-e857-485e-c419-21728d1eb6fe"
   },
   "outputs": [
    {
     "data": {
      "application/vnd.google.colaboratory.intrinsic+json": {
       "type": "string"
      },
      "text/plain": [
       "'ürünü alalı 3 hafta kadar oldu. aralıksız kullanıyorum bilgisyarım sürekli açık durur ve ben günde yaklaşık 12 saat başındayım mousesu çok kullanırım. şimdiye kadar bir problem yaşamadım ve çok memnunum almak isteyenlere tavsiye ederim.'"
      ]
     },
     "execution_count": 14,
     "metadata": {},
     "output_type": "execute_result"
    }
   ],
   "source": [
    "review_train[800]"
   ]
  },
  {
   "cell_type": "code",
   "execution_count": 15,
   "metadata": {
    "colab": {
     "base_uri": "https://localhost:8080/"
    },
    "executionInfo": {
     "elapsed": 264,
     "status": "ok",
     "timestamp": 1730531684290,
     "user": {
      "displayName": "Yusuf Evren AYKAÇ",
      "userId": "02771263071343472956"
     },
     "user_tz": -180
    },
    "id": "N7m_rE0hefqy",
    "outputId": "8879f549-b377-4bc8-e337-56551862ab11"
   },
   "outputs": [
    {
     "name": "stdout",
     "output_type": "stream",
     "text": [
      "[19, 341, 52, 194, 30, 54, 7992, 55, 209, 603, 7887, 3, 36, 114, 164, 479, 85, 1, 1682, 782, 30, 2, 380, 326, 3, 1, 81, 132, 562, 9, 10]\n"
     ]
    }
   ],
   "source": [
    "print(review_train_tokens[800])"
   ]
  },
  {
   "cell_type": "code",
   "execution_count": 16,
   "metadata": {
    "executionInfo": {
     "elapsed": 262,
     "status": "ok",
     "timestamp": 1730531686246,
     "user": {
      "displayName": "Yusuf Evren AYKAÇ",
      "userId": "02771263071343472956"
     },
     "user_tz": -180
    },
    "id": "CIMA0UEke1Mx"
   },
   "outputs": [],
   "source": [
    "num_tokens = [len(tokens) for tokens in review_train_tokens + review_test_tokens]\n",
    "num_tokens = np.array(num_tokens)"
   ]
  },
  {
   "cell_type": "code",
   "execution_count": 17,
   "metadata": {
    "colab": {
     "base_uri": "https://localhost:8080/"
    },
    "executionInfo": {
     "elapsed": 274,
     "status": "ok",
     "timestamp": 1730531696260,
     "user": {
      "displayName": "Yusuf Evren AYKAÇ",
      "userId": "02771263071343472956"
     },
     "user_tz": -180
    },
    "id": "k_JQnyUDfMK7",
    "outputId": "b1f09723-622c-4c7b-cee5-6c999ea73216"
   },
   "outputs": [
    {
     "data": {
      "text/plain": [
       "20.744703220162876"
      ]
     },
     "execution_count": 17,
     "metadata": {},
     "output_type": "execute_result"
    }
   ],
   "source": [
    "np.mean(num_tokens)"
   ]
  },
  {
   "cell_type": "code",
   "execution_count": 18,
   "metadata": {
    "colab": {
     "base_uri": "https://localhost:8080/"
    },
    "executionInfo": {
     "elapsed": 267,
     "status": "ok",
     "timestamp": 1730531697778,
     "user": {
      "displayName": "Yusuf Evren AYKAÇ",
      "userId": "02771263071343472956"
     },
     "user_tz": -180
    },
    "id": "AuQBmkILfQPr",
    "outputId": "a1d84aca-6df0-4264-b7dc-fe5ff92cfd22"
   },
   "outputs": [
    {
     "data": {
      "text/plain": [
       "295"
      ]
     },
     "execution_count": 18,
     "metadata": {},
     "output_type": "execute_result"
    }
   ],
   "source": [
    "np.max(num_tokens)"
   ]
  },
  {
   "cell_type": "code",
   "execution_count": 19,
   "metadata": {
    "colab": {
     "base_uri": "https://localhost:8080/"
    },
    "executionInfo": {
     "elapsed": 301,
     "status": "ok",
     "timestamp": 1730531700070,
     "user": {
      "displayName": "Yusuf Evren AYKAÇ",
      "userId": "02771263071343472956"
     },
     "user_tz": -180
    },
    "id": "oHHcnHpWfX-7",
    "outputId": "9e08b077-4fd9-421e-e275-a1e5bb4b9bee"
   },
   "outputs": [
    {
     "data": {
      "text/plain": [
       "21941"
      ]
     },
     "execution_count": 19,
     "metadata": {},
     "output_type": "execute_result"
    }
   ],
   "source": [
    "np.argmax(num_tokens)"
   ]
  },
  {
   "cell_type": "code",
   "execution_count": 20,
   "metadata": {
    "colab": {
     "base_uri": "https://localhost:8080/",
     "height": 122
    },
    "executionInfo": {
     "elapsed": 278,
     "status": "ok",
     "timestamp": 1730531702434,
     "user": {
      "displayName": "Yusuf Evren AYKAÇ",
      "userId": "02771263071343472956"
     },
     "user_tz": -180
    },
    "id": "9NDLnuimfe35",
    "outputId": "c37b323a-dbbb-40ba-9d3c-95209b3c4579"
   },
   "outputs": [
    {
     "data": {
      "application/vnd.google.colaboratory.intrinsic+json": {
       "type": "string"
      },
      "text/plain": [
       "'Özellikle bu kısma yazıyorum iyice okuyunuz,cihazın hızı çok iyi.Isınma normal boyutlarda.Kamerası elinizi sabit tutarsanız ve gündüz çok net gece ise çok net çekmez.Görüntülü konuşma özelliği yok ancak uygulama ile olur,anten çekimi gayet iyi.Parmak izi okuyucusu gayet hızlı bazen tuşu silmenizi istiyor ve okuyamıyor kirden vs...Ön kamera da tatmin edici,çekim esnasında ekran beyaz ışık vererek flaş görevi görür.Batarya bana 1 hafta gidiyor sık kullanımda ise 2-3 gün gidiyor.Hızlı şarj 1 saatte doluyor , şekilleri ele oturuyor ve şık bir görüntü var.Telefonu aldığım gün gittim ve ilk girdiğim yerden ekran koruyucu ve kılıf buldum.Kulaklık sesi çok net ve yüksek ancak kendi hoparlörü biraz zayıf sesi.Ekrana bakarken açık kalma özelliği yok.Diğer akıllı cihaz özellikleri %90 ı bu cihazda mevcut.Güç tasarrufu 2 ayrı modu var ve çok başarılı çalışıyor.4gb ram var genelde yarısı boş kalıyor.Bir de yeni cihazların çoğu titreşimi az ve sesi de az çıkıyor.Bu cihaz da içine dahil...Bu cihazlar güncelleme almaz ve rom bulunmuyormuş.Benim için güncelleme sorun olmaz -cihaz parasına göre s serisi ile yarışıyor çünkü.Biraz metal olmasından dolayı elden kolay kaysada duruşu ve gösterişi iyidir.Çift flaşı var arkada.Kısaca şöyle ki bu fiyata bu ürün alınır.5 aydır kullanıyorum kasma donma felan zaten olmaz,bataryası iyi,şekli iyi,özellikler de iyi....En büyük kafa karıştıran soru şu ki hadi cihaz arıza yaptı veya düştü ekranı kırıldı.Bunun bir servisi var,ithalatçı garantisi de var.Cihazın adı sanı belli...Parça bulanmaz tamir olmaz derseniz size kalmış.Zaten normal bir cihazı da düşürseniz farkedermi?.Güncelleme almaz diyorlar bu konuda düşünebilirsiniz.S serisi cihazlarla hızını kıyaslarsınız ama güncelleme ile araya fark koymuşlar.İki katı fiyata satılan cihazla farkı olmasa zaten olmaz değil mi?Almayı düşünenler başka bir cihazla kıyas yapacaksa yine  7pro veya 9 baksınlar.C5 pro da biraz boyutu kısa ve kibar....Sonuçta ömürlük değil alın fazla düşünmeyin'"
      ]
     },
     "execution_count": 20,
     "metadata": {},
     "output_type": "execute_result"
    }
   ],
   "source": [
    "review_train[21941]"
   ]
  },
  {
   "cell_type": "code",
   "execution_count": 21,
   "metadata": {
    "colab": {
     "base_uri": "https://localhost:8080/"
    },
    "executionInfo": {
     "elapsed": 299,
     "status": "ok",
     "timestamp": 1730531704750,
     "user": {
      "displayName": "Yusuf Evren AYKAÇ",
      "userId": "02771263071343472956"
     },
     "user_tz": -180
    },
    "id": "xyBUjGQnfpaq",
    "outputId": "32b6a5f0-8b77-48d2-cfd1-c3d568fe1dc3"
   },
   "outputs": [
    {
     "data": {
      "text/plain": [
       "59"
      ]
     },
     "execution_count": 21,
     "metadata": {},
     "output_type": "execute_result"
    }
   ],
   "source": [
    "max_tokens = np.mean(num_tokens) + 2 * np.std(num_tokens)\n",
    "max_tokens = int(max_tokens)\n",
    "max_tokens\n"
   ]
  },
  {
   "cell_type": "code",
   "execution_count": 22,
   "metadata": {
    "colab": {
     "base_uri": "https://localhost:8080/"
    },
    "executionInfo": {
     "elapsed": 266,
     "status": "ok",
     "timestamp": 1730531707173,
     "user": {
      "displayName": "Yusuf Evren AYKAÇ",
      "userId": "02771263071343472956"
     },
     "user_tz": -180
    },
    "id": "-j5NsH7XgBcZ",
    "outputId": "726f5a24-f162-4576-90e5-e4a1fc6ad126"
   },
   "outputs": [
    {
     "data": {
      "text/plain": [
       "0.9597982726686571"
      ]
     },
     "execution_count": 22,
     "metadata": {},
     "output_type": "execute_result"
    }
   ],
   "source": [
    "np.sum(num_tokens < max_tokens) / len(num_tokens)"
   ]
  },
  {
   "cell_type": "code",
   "execution_count": 23,
   "metadata": {
    "executionInfo": {
     "elapsed": 928,
     "status": "ok",
     "timestamp": 1730531711020,
     "user": {
      "displayName": "Yusuf Evren AYKAÇ",
      "userId": "02771263071343472956"
     },
     "user_tz": -180
    },
    "id": "72joAdj8gW9t"
   },
   "outputs": [],
   "source": [
    "review_train_pad = pad_sequences(review_train_tokens, maxlen=max_tokens)\n",
    "review_test_pad = pad_sequences(review_test_tokens, maxlen=max_tokens)"
   ]
  },
  {
   "cell_type": "code",
   "execution_count": 24,
   "metadata": {
    "colab": {
     "base_uri": "https://localhost:8080/"
    },
    "executionInfo": {
     "elapsed": 275,
     "status": "ok",
     "timestamp": 1730531712516,
     "user": {
      "displayName": "Yusuf Evren AYKAÇ",
      "userId": "02771263071343472956"
     },
     "user_tz": -180
    },
    "id": "W9mN5kf6gxCG",
    "outputId": "0ebf665a-5dce-4bf6-8b2f-39e5f64dd851"
   },
   "outputs": [
    {
     "data": {
      "text/plain": [
       "array([  19,  341,   52,  194,   30,   54, 7992,   55,  209,  603, 7887,\n",
       "          3,   36,  114,  164,  479,   85,    1, 1682,  782,   30,    2,\n",
       "        380,  326,    3,    1,   81,  132,  562,    9,   10])"
      ]
     },
     "execution_count": 24,
     "metadata": {},
     "output_type": "execute_result"
    }
   ],
   "source": [
    "np.array(review_train_tokens[800])"
   ]
  },
  {
   "cell_type": "code",
   "execution_count": 25,
   "metadata": {
    "colab": {
     "base_uri": "https://localhost:8080/"
    },
    "executionInfo": {
     "elapsed": 269,
     "status": "ok",
     "timestamp": 1730531714511,
     "user": {
      "displayName": "Yusuf Evren AYKAÇ",
      "userId": "02771263071343472956"
     },
     "user_tz": -180
    },
    "id": "NWHU2qjbg65f",
    "outputId": "7c61defe-8fac-4eac-f327-655467bac68c"
   },
   "outputs": [
    {
     "data": {
      "text/plain": [
       "array([   0,    0,    0,    0,    0,    0,    0,    0,    0,    0,    0,\n",
       "          0,    0,    0,    0,    0,    0,    0,    0,    0,    0,    0,\n",
       "          0,    0,    0,    0,    0,    0,   19,  341,   52,  194,   30,\n",
       "         54, 7992,   55,  209,  603, 7887,    3,   36,  114,  164,  479,\n",
       "         85,    1, 1682,  782,   30,    2,  380,  326,    3,    1,   81,\n",
       "        132,  562,    9,   10], dtype=int32)"
      ]
     },
     "execution_count": 25,
     "metadata": {},
     "output_type": "execute_result"
    }
   ],
   "source": [
    "review_train_pad[800]"
   ]
  },
  {
   "cell_type": "code",
   "execution_count": 26,
   "metadata": {
    "colab": {
     "base_uri": "https://localhost:8080/"
    },
    "executionInfo": {
     "elapsed": 276,
     "status": "ok",
     "timestamp": 1730531716979,
     "user": {
      "displayName": "Yusuf Evren AYKAÇ",
      "userId": "02771263071343472956"
     },
     "user_tz": -180
    },
    "id": "UO-HnHd4hIB1",
    "outputId": "87106b5b-e5c9-4085-bbb9-24a9c8805859"
   },
   "outputs": [
    {
     "data": {
      "text/plain": [
       "(194797, 59)"
      ]
     },
     "execution_count": 26,
     "metadata": {},
     "output_type": "execute_result"
    }
   ],
   "source": [
    "review_train_pad.shape"
   ]
  },
  {
   "cell_type": "code",
   "execution_count": 27,
   "metadata": {
    "colab": {
     "base_uri": "https://localhost:8080/"
    },
    "executionInfo": {
     "elapsed": 283,
     "status": "ok",
     "timestamp": 1730531718794,
     "user": {
      "displayName": "Yusuf Evren AYKAÇ",
      "userId": "02771263071343472956"
     },
     "user_tz": -180
    },
    "id": "OymYniEZhcjR",
    "outputId": "ae85326b-c368-434f-f70d-b0bd7bd6e116"
   },
   "outputs": [
    {
     "data": {
      "text/plain": [
       "(48700, 59)"
      ]
     },
     "execution_count": 27,
     "metadata": {},
     "output_type": "execute_result"
    }
   ],
   "source": [
    "review_test_pad.shape"
   ]
  },
  {
   "cell_type": "code",
   "execution_count": 28,
   "metadata": {
    "executionInfo": {
     "elapsed": 262,
     "status": "ok",
     "timestamp": 1730531720672,
     "user": {
      "displayName": "Yusuf Evren AYKAÇ",
      "userId": "02771263071343472956"
     },
     "user_tz": -180
    },
    "id": "yl4uqF8Ahl86"
   },
   "outputs": [],
   "source": [
    "# Tokenize the text data for training\n",
    "index = tokenizer.word_index\n",
    "reverse_word_index = dict([(value, key) for (key, value) in index.items()])"
   ]
  },
  {
   "cell_type": "code",
   "execution_count": 29,
   "metadata": {
    "executionInfo": {
     "elapsed": 274,
     "status": "ok",
     "timestamp": 1730531725732,
     "user": {
      "displayName": "Yusuf Evren AYKAÇ",
      "userId": "02771263071343472956"
     },
     "user_tz": -180
    },
    "id": "PRP9kcGWh78u"
   },
   "outputs": [],
   "source": [
    "# Define a function to convert tokenized text back to human-readable text\n",
    "def decode_review(tokens):\n",
    "    return ' '.join([reverse_word_index.get(i, '?') for i in tokens])"
   ]
  },
  {
   "cell_type": "code",
   "execution_count": 30,
   "metadata": {
    "colab": {
     "base_uri": "https://localhost:8080/",
     "height": 52
    },
    "executionInfo": {
     "elapsed": 274,
     "status": "ok",
     "timestamp": 1730531728056,
     "user": {
      "displayName": "Yusuf Evren AYKAÇ",
      "userId": "02771263071343472956"
     },
     "user_tz": -180
    },
    "id": "5054rcvtiMzt",
    "outputId": "326b32dd-3a6b-4dbc-a543-41ca5af06010"
   },
   "outputs": [
    {
     "data": {
      "application/vnd.google.colaboratory.intrinsic+json": {
       "type": "string"
      },
      "text/plain": [
       "'ürünü alalı 3 hafta kadar oldu. aralıksız kullanıyorum bilgisyarım sürekli açık durur ve ben günde yaklaşık 12 saat başındayım mousesu çok kullanırım. şimdiye kadar bir problem yaşamadım ve çok memnunum almak isteyenlere tavsiye ederim.'"
      ]
     },
     "execution_count": 30,
     "metadata": {},
     "output_type": "execute_result"
    }
   ],
   "source": [
    "review_train[800]"
   ]
  },
  {
   "cell_type": "code",
   "execution_count": 31,
   "metadata": {
    "colab": {
     "base_uri": "https://localhost:8080/",
     "height": 52
    },
    "executionInfo": {
     "elapsed": 264,
     "status": "ok",
     "timestamp": 1730531732483,
     "user": {
      "displayName": "Yusuf Evren AYKAÇ",
      "userId": "02771263071343472956"
     },
     "user_tz": -180
    },
    "id": "05jZb7S3iRDm",
    "outputId": "f567779d-e78e-4ed9-fa1c-210f1bfef758"
   },
   "outputs": [
    {
     "data": {
      "application/vnd.google.colaboratory.intrinsic+json": {
       "type": "string"
      },
      "text/plain": [
       "'ürünü alalı 3 hafta kadar oldu aralıksız kullanıyorum sürekli açık durur ve ben günde yaklaşık 12 saat çok kullanırım şimdiye kadar bir problem yaşamadım ve çok memnunum almak isteyenlere tavsiye ederim'"
      ]
     },
     "execution_count": 31,
     "metadata": {},
     "output_type": "execute_result"
    }
   ],
   "source": [
    "# Define a function to convert tokenized text back to human-readable text\n",
    "decode_review(review_train_tokens[800])"
   ]
  },
  {
   "cell_type": "code",
   "execution_count": 32,
   "metadata": {
    "colab": {
     "base_uri": "https://localhost:8080/"
    },
    "executionInfo": {
     "elapsed": 280,
     "status": "ok",
     "timestamp": 1730531736269,
     "user": {
      "displayName": "Yusuf Evren AYKAÇ",
      "userId": "02771263071343472956"
     },
     "user_tz": -180
    },
    "id": "tTU7_Z5yicF0",
    "outputId": "a5b8c77d-3736-4b0f-ee43-23a30b8a7193"
   },
   "outputs": [
    {
     "name": "stderr",
     "output_type": "stream",
     "text": [
      "/usr/local/lib/python3.10/dist-packages/keras/src/layers/core/embedding.py:90: UserWarning: Argument `input_length` is deprecated. Just remove it.\n",
      "  warnings.warn(\n"
     ]
    }
   ],
   "source": [
    "# Define the Sequential model with an Embedding layer\n",
    "# The Embedding layer converts integer-encoded words into dense vectors of fixed size\n",
    "model = Sequential()\n",
    "embedding_size = 50\n",
    "model.add(Embedding(input_dim=num_words,\n",
    "                    output_dim=embedding_size,\n",
    "                    input_length=max_tokens,\n",
    "                    name='embedding_layer'))"
   ]
  },
  {
   "cell_type": "code",
   "execution_count": 33,
   "metadata": {
    "executionInfo": {
     "elapsed": 518,
     "status": "ok",
     "timestamp": 1730531750786,
     "user": {
      "displayName": "Yusuf Evren AYKAÇ",
      "userId": "02771263071343472956"
     },
     "user_tz": -180
    },
    "id": "XymdTSxajAmR"
   },
   "outputs": [],
   "source": [
    "# Add GRU layers for sequence learning\n",
    "# These layers help capture dependencies in the text data\n",
    "model.add(GRU(units=16, return_sequences=True))\n",
    "model.add(GRU(units=8, return_sequences=True))\n",
    "model.add(GRU(units=4, return_sequences=False))\n",
    "model.add(Dense(1, activation='sigmoid'))"
   ]
  },
  {
   "cell_type": "code",
   "execution_count": 34,
   "metadata": {
    "executionInfo": {
     "elapsed": 266,
     "status": "ok",
     "timestamp": 1730531752945,
     "user": {
      "displayName": "Yusuf Evren AYKAÇ",
      "userId": "02771263071343472956"
     },
     "user_tz": -180
    },
    "id": "IYToz1acjj0f"
   },
   "outputs": [],
   "source": [
    "# Compile the model with binary cross-entropy loss and Adam optimizer\n",
    "# Binary cross-entropy is suitable for binary classification\n",
    "optimizer = Adam(learning_rate = 1e-3)\n",
    "model.compile(loss='binary_crossentropy',\n",
    "              optimizer=optimizer,\n",
    "              metrics=['accuracy'])"
   ]
  },
  {
   "cell_type": "code",
   "execution_count": 35,
   "metadata": {
    "colab": {
     "base_uri": "https://localhost:8080/",
     "height": 289
    },
    "executionInfo": {
     "elapsed": 267,
     "status": "ok",
     "timestamp": 1730531756553,
     "user": {
      "displayName": "Yusuf Evren AYKAÇ",
      "userId": "02771263071343472956"
     },
     "user_tz": -180
    },
    "id": "SJl9eEu4kIT9",
    "outputId": "964ed99b-a9d2-430f-a5eb-18fca01d8627"
   },
   "outputs": [
    {
     "data": {
      "text/html": [
       "<pre style=\"white-space:pre;overflow-x:auto;line-height:normal;font-family:Menlo,'DejaVu Sans Mono',consolas,'Courier New',monospace\"><span style=\"font-weight: bold\">Model: \"sequential\"</span>\n",
       "</pre>\n"
      ],
      "text/plain": [
       "\u001b[1mModel: \"sequential\"\u001b[0m\n"
      ]
     },
     "metadata": {},
     "output_type": "display_data"
    },
    {
     "data": {
      "text/html": [
       "<pre style=\"white-space:pre;overflow-x:auto;line-height:normal;font-family:Menlo,'DejaVu Sans Mono',consolas,'Courier New',monospace\">┏━━━━━━━━━━━━━━━━━━━━━━━━━━━━━━━━━━━━━━┳━━━━━━━━━━━━━━━━━━━━━━━━━━━━━┳━━━━━━━━━━━━━━━━━┓\n",
       "┃<span style=\"font-weight: bold\"> Layer (type)                         </span>┃<span style=\"font-weight: bold\"> Output Shape                </span>┃<span style=\"font-weight: bold\">         Param # </span>┃\n",
       "┡━━━━━━━━━━━━━━━━━━━━━━━━━━━━━━━━━━━━━━╇━━━━━━━━━━━━━━━━━━━━━━━━━━━━━╇━━━━━━━━━━━━━━━━━┩\n",
       "│ embedding_layer (<span style=\"color: #0087ff; text-decoration-color: #0087ff\">Embedding</span>)          │ ?                           │     <span style=\"color: #00af00; text-decoration-color: #00af00\">0</span> (unbuilt) │\n",
       "├──────────────────────────────────────┼─────────────────────────────┼─────────────────┤\n",
       "│ gru (<span style=\"color: #0087ff; text-decoration-color: #0087ff\">GRU</span>)                            │ ?                           │     <span style=\"color: #00af00; text-decoration-color: #00af00\">0</span> (unbuilt) │\n",
       "├──────────────────────────────────────┼─────────────────────────────┼─────────────────┤\n",
       "│ gru_1 (<span style=\"color: #0087ff; text-decoration-color: #0087ff\">GRU</span>)                          │ ?                           │     <span style=\"color: #00af00; text-decoration-color: #00af00\">0</span> (unbuilt) │\n",
       "├──────────────────────────────────────┼─────────────────────────────┼─────────────────┤\n",
       "│ gru_2 (<span style=\"color: #0087ff; text-decoration-color: #0087ff\">GRU</span>)                          │ ?                           │     <span style=\"color: #00af00; text-decoration-color: #00af00\">0</span> (unbuilt) │\n",
       "├──────────────────────────────────────┼─────────────────────────────┼─────────────────┤\n",
       "│ dense (<span style=\"color: #0087ff; text-decoration-color: #0087ff\">Dense</span>)                        │ ?                           │     <span style=\"color: #00af00; text-decoration-color: #00af00\">0</span> (unbuilt) │\n",
       "└──────────────────────────────────────┴─────────────────────────────┴─────────────────┘\n",
       "</pre>\n"
      ],
      "text/plain": [
       "┏━━━━━━━━━━━━━━━━━━━━━━━━━━━━━━━━━━━━━━┳━━━━━━━━━━━━━━━━━━━━━━━━━━━━━┳━━━━━━━━━━━━━━━━━┓\n",
       "┃\u001b[1m \u001b[0m\u001b[1mLayer (type)                        \u001b[0m\u001b[1m \u001b[0m┃\u001b[1m \u001b[0m\u001b[1mOutput Shape               \u001b[0m\u001b[1m \u001b[0m┃\u001b[1m \u001b[0m\u001b[1m        Param #\u001b[0m\u001b[1m \u001b[0m┃\n",
       "┡━━━━━━━━━━━━━━━━━━━━━━━━━━━━━━━━━━━━━━╇━━━━━━━━━━━━━━━━━━━━━━━━━━━━━╇━━━━━━━━━━━━━━━━━┩\n",
       "│ embedding_layer (\u001b[38;5;33mEmbedding\u001b[0m)          │ ?                           │     \u001b[38;5;34m0\u001b[0m (unbuilt) │\n",
       "├──────────────────────────────────────┼─────────────────────────────┼─────────────────┤\n",
       "│ gru (\u001b[38;5;33mGRU\u001b[0m)                            │ ?                           │     \u001b[38;5;34m0\u001b[0m (unbuilt) │\n",
       "├──────────────────────────────────────┼─────────────────────────────┼─────────────────┤\n",
       "│ gru_1 (\u001b[38;5;33mGRU\u001b[0m)                          │ ?                           │     \u001b[38;5;34m0\u001b[0m (unbuilt) │\n",
       "├──────────────────────────────────────┼─────────────────────────────┼─────────────────┤\n",
       "│ gru_2 (\u001b[38;5;33mGRU\u001b[0m)                          │ ?                           │     \u001b[38;5;34m0\u001b[0m (unbuilt) │\n",
       "├──────────────────────────────────────┼─────────────────────────────┼─────────────────┤\n",
       "│ dense (\u001b[38;5;33mDense\u001b[0m)                        │ ?                           │     \u001b[38;5;34m0\u001b[0m (unbuilt) │\n",
       "└──────────────────────────────────────┴─────────────────────────────┴─────────────────┘\n"
      ]
     },
     "metadata": {},
     "output_type": "display_data"
    },
    {
     "data": {
      "text/html": [
       "<pre style=\"white-space:pre;overflow-x:auto;line-height:normal;font-family:Menlo,'DejaVu Sans Mono',consolas,'Courier New',monospace\"><span style=\"font-weight: bold\"> Total params: </span><span style=\"color: #00af00; text-decoration-color: #00af00\">0</span> (0.00 B)\n",
       "</pre>\n"
      ],
      "text/plain": [
       "\u001b[1m Total params: \u001b[0m\u001b[38;5;34m0\u001b[0m (0.00 B)\n"
      ]
     },
     "metadata": {},
     "output_type": "display_data"
    },
    {
     "data": {
      "text/html": [
       "<pre style=\"white-space:pre;overflow-x:auto;line-height:normal;font-family:Menlo,'DejaVu Sans Mono',consolas,'Courier New',monospace\"><span style=\"font-weight: bold\"> Trainable params: </span><span style=\"color: #00af00; text-decoration-color: #00af00\">0</span> (0.00 B)\n",
       "</pre>\n"
      ],
      "text/plain": [
       "\u001b[1m Trainable params: \u001b[0m\u001b[38;5;34m0\u001b[0m (0.00 B)\n"
      ]
     },
     "metadata": {},
     "output_type": "display_data"
    },
    {
     "data": {
      "text/html": [
       "<pre style=\"white-space:pre;overflow-x:auto;line-height:normal;font-family:Menlo,'DejaVu Sans Mono',consolas,'Courier New',monospace\"><span style=\"font-weight: bold\"> Non-trainable params: </span><span style=\"color: #00af00; text-decoration-color: #00af00\">0</span> (0.00 B)\n",
       "</pre>\n"
      ],
      "text/plain": [
       "\u001b[1m Non-trainable params: \u001b[0m\u001b[38;5;34m0\u001b[0m (0.00 B)\n"
      ]
     },
     "metadata": {},
     "output_type": "display_data"
    }
   ],
   "source": [
    "model.summary()"
   ]
  },
  {
   "cell_type": "code",
   "execution_count": 37,
   "metadata": {
    "executionInfo": {
     "elapsed": 267,
     "status": "ok",
     "timestamp": 1730531970087,
     "user": {
      "displayName": "Yusuf Evren AYKAÇ",
      "userId": "02771263071343472956"
     },
     "user_tz": -180
    },
    "id": "6jBsBdqTu5dQ"
   },
   "outputs": [],
   "source": [
    "rating_train = np.array(rating_train)"
   ]
  },
  {
   "cell_type": "code",
   "execution_count": 39,
   "metadata": {
    "colab": {
     "base_uri": "https://localhost:8080/"
    },
    "executionInfo": {
     "elapsed": 64233,
     "status": "ok",
     "timestamp": 1730532127226,
     "user": {
      "displayName": "Yusuf Evren AYKAÇ",
      "userId": "02771263071343472956"
     },
     "user_tz": -180
    },
    "id": "M6dmd2LOvl1w",
    "outputId": "76fdcd12-b57f-4b24-9507-23703791c0d4"
   },
   "outputs": [
    {
     "name": "stdout",
     "output_type": "stream",
     "text": [
      "Epoch 1/5\n",
      "\u001b[1m761/761\u001b[0m \u001b[32m━━━━━━━━━━━━━━━━━━━━\u001b[0m\u001b[37m\u001b[0m \u001b[1m16s\u001b[0m 14ms/step - accuracy: 0.9443 - loss: 0.2374\n",
      "Epoch 2/5\n",
      "\u001b[1m761/761\u001b[0m \u001b[32m━━━━━━━━━━━━━━━━━━━━\u001b[0m\u001b[37m\u001b[0m \u001b[1m14s\u001b[0m 11ms/step - accuracy: 0.9733 - loss: 0.0843\n",
      "Epoch 3/5\n",
      "\u001b[1m761/761\u001b[0m \u001b[32m━━━━━━━━━━━━━━━━━━━━\u001b[0m\u001b[37m\u001b[0m \u001b[1m11s\u001b[0m 11ms/step - accuracy: 0.9801 - loss: 0.0648\n",
      "Epoch 4/5\n",
      "\u001b[1m761/761\u001b[0m \u001b[32m━━━━━━━━━━━━━━━━━━━━\u001b[0m\u001b[37m\u001b[0m \u001b[1m11s\u001b[0m 12ms/step - accuracy: 0.9855 - loss: 0.0498\n",
      "Epoch 5/5\n",
      "\u001b[1m761/761\u001b[0m \u001b[32m━━━━━━━━━━━━━━━━━━━━\u001b[0m\u001b[37m\u001b[0m \u001b[1m10s\u001b[0m 12ms/step - accuracy: 0.9902 - loss: 0.0361\n"
     ]
    },
    {
     "data": {
      "text/plain": [
       "<keras.src.callbacks.history.History at 0x7be934de7130>"
      ]
     },
     "execution_count": 39,
     "metadata": {},
     "output_type": "execute_result"
    }
   ],
   "source": [
    "# Train the model using the training dataset\n",
    "# We use a batch size of 256 and train for 5 epochs\n",
    "model.fit(review_train_pad, rating_train, epochs=5, batch_size=256)"
   ]
  },
  {
   "cell_type": "code",
   "execution_count": 40,
   "metadata": {
    "executionInfo": {
     "elapsed": 259,
     "status": "ok",
     "timestamp": 1730532201475,
     "user": {
      "displayName": "Yusuf Evren AYKAÇ",
      "userId": "02771263071343472956"
     },
     "user_tz": -180
    },
    "id": "l4ZH0WgWwVFT"
   },
   "outputs": [],
   "source": [
    "rating_test = np.array(rating_test)"
   ]
  },
  {
   "cell_type": "code",
   "execution_count": 41,
   "metadata": {
    "colab": {
     "base_uri": "https://localhost:8080/"
    },
    "executionInfo": {
     "elapsed": 8832,
     "status": "ok",
     "timestamp": 1730532326124,
     "user": {
      "displayName": "Yusuf Evren AYKAÇ",
      "userId": "02771263071343472956"
     },
     "user_tz": -180
    },
    "id": "XxCNI8HFwd7J",
    "outputId": "d6f18fd0-1b13-4c18-f189-78a0cfc08ce6"
   },
   "outputs": [
    {
     "name": "stdout",
     "output_type": "stream",
     "text": [
      "\u001b[1m1522/1522\u001b[0m \u001b[32m━━━━━━━━━━━━━━━━━━━━\u001b[0m\u001b[37m\u001b[0m \u001b[1m9s\u001b[0m 5ms/step - accuracy: 0.9370 - loss: 0.2085\n"
     ]
    }
   ],
   "source": [
    "# Evaluate the model on the test dataset to measure accuracy and loss\n",
    "evaluation_result = model.evaluate(review_test_pad, rating_test)"
   ]
  },
  {
   "cell_type": "code",
   "execution_count": 42,
   "metadata": {
    "colab": {
     "base_uri": "https://localhost:8080/"
    },
    "executionInfo": {
     "elapsed": 271,
     "status": "ok",
     "timestamp": 1730532341683,
     "user": {
      "displayName": "Yusuf Evren AYKAÇ",
      "userId": "02771263071343472956"
     },
     "user_tz": -180
    },
    "id": "RR-FmkiLw-hY",
    "outputId": "1a36a49e-8c25-4768-e1a1-1c179e4a73e2"
   },
   "outputs": [
    {
     "name": "stdout",
     "output_type": "stream",
     "text": [
      "Test accuracy: 0.9478439688682556\n"
     ]
    }
   ],
   "source": [
    "print(\"Test accuracy:\", evaluation_result[1])"
   ]
  },
  {
   "cell_type": "code",
   "execution_count": 43,
   "metadata": {
    "colab": {
     "base_uri": "https://localhost:8080/"
    },
    "executionInfo": {
     "elapsed": 826,
     "status": "ok",
     "timestamp": 1730532387839,
     "user": {
      "displayName": "Yusuf Evren AYKAÇ",
      "userId": "02771263071343472956"
     },
     "user_tz": -180
    },
    "id": "XZW_g51BxF2N",
    "outputId": "d2c9f6a9-aaab-4097-929f-ee2adc46a76e"
   },
   "outputs": [
    {
     "name": "stdout",
     "output_type": "stream",
     "text": [
      "\u001b[1m32/32\u001b[0m \u001b[32m━━━━━━━━━━━━━━━━━━━━\u001b[0m\u001b[37m\u001b[0m \u001b[1m1s\u001b[0m 12ms/step\n"
     ]
    }
   ],
   "source": [
    "# Use the model to predict the sentiment of new samples\n",
    "sample_predictions = model.predict(x=review_test_pad[0:1000]).T[0]"
   ]
  },
  {
   "cell_type": "code",
   "execution_count": 44,
   "metadata": {
    "executionInfo": {
     "elapsed": 273,
     "status": "ok",
     "timestamp": 1730532426654,
     "user": {
      "displayName": "Yusuf Evren AYKAÇ",
      "userId": "02771263071343472956"
     },
     "user_tz": -180
    },
    "id": "03M6YifpxMNy"
   },
   "outputs": [],
   "source": [
    "predicted_classes = np.array([1.0 if p > 0.5 else 0.0 for p in sample_predictions])\n",
    "true_classes = np.array(rating_test[0:1000])"
   ]
  },
  {
   "cell_type": "code",
   "execution_count": 45,
   "metadata": {
    "colab": {
     "base_uri": "https://localhost:8080/"
    },
    "executionInfo": {
     "elapsed": 279,
     "status": "ok",
     "timestamp": 1730532449817,
     "user": {
      "displayName": "Yusuf Evren AYKAÇ",
      "userId": "02771263071343472956"
     },
     "user_tz": -180
    },
    "id": "QqZ-1hMixYhW",
    "outputId": "d52b2e5e-d923-4790-91ad-dc538bd7fbe3"
   },
   "outputs": [
    {
     "name": "stdout",
     "output_type": "stream",
     "text": [
      "Number of incorrect predictions: 59\n"
     ]
    }
   ],
   "source": [
    "incorrect_predictions = np.where(predicted_classes != true_classes)[0]\n",
    "print(\"Number of incorrect predictions:\", len(incorrect_predictions))"
   ]
  },
  {
   "cell_type": "code",
   "execution_count": 48,
   "metadata": {
    "colab": {
     "base_uri": "https://localhost:8080/"
    },
    "executionInfo": {
     "elapsed": 261,
     "status": "ok",
     "timestamp": 1730532547783,
     "user": {
      "displayName": "Yusuf Evren AYKAÇ",
      "userId": "02771263071343472956"
     },
     "user_tz": -180
    },
    "id": "0KUyKxEaxcJf",
    "outputId": "5491f537-8753-46a7-81ad-edb587ebd995"
   },
   "outputs": [
    {
     "name": "stdout",
     "output_type": "stream",
     "text": [
      "Index of incorrect prediction: 5\n",
      "Text: Ürün güzel ama teslimat çok geç yapıldı.\n",
      "Predicted Rating: 0.97652286\n",
      "True Rating: 0\n"
     ]
    }
   ],
   "source": [
    "sample_index = incorrect_predictions[0]\n",
    "print(\"Index of incorrect prediction:\", sample_index)\n",
    "print(\"Text:\", review_test[sample_index])\n",
    "print(\"Predicted Rating:\", sample_predictions[sample_index])\n",
    "print(\"True Rating:\", true_classes[sample_index])"
   ]
  },
  {
   "cell_type": "code",
   "execution_count": 49,
   "metadata": {
    "executionInfo": {
     "elapsed": 300,
     "status": "ok",
     "timestamp": 1730532699131,
     "user": {
      "displayName": "Yusuf Evren AYKAÇ",
      "userId": "02771263071343472956"
     },
     "user_tz": -180
    },
    "id": "jVw2z9nKyN_M"
   },
   "outputs": [],
   "source": [
    "new_texts = [\"Gerçekten harika bir ürün ve elime hızlı ulaştı\",\n",
    "             \"dün sipariş verdim ve bugün hemen elime ulaştı, kargo çok hızlı\",\n",
    "             \"böyle büyük bir marka için tam bir hayal kırıklığı oldu\",\n",
    "             \"harika\",\n",
    "             \"sanki kullanılmış ürün göndermişler, bu satıcıyı kimseye tavsiye etmiyorum\",\n",
    "            \"resimlerde gördüğünüzle elinize ulaşan arasında dağlar kadar fark var\",\n",
    "             \"yorumlara bakıp az daha almayacaktım ama çok memnun kaldım\",\n",
    "            \"Satıcı çok ilgisiz iade edeceğim kesinlikle\",\n",
    "             \"tam bir fiyat performans ürünü\",\n",
    "             \"hiç beklediğimi bulamadım\"]"
   ]
  },
  {
   "cell_type": "code",
   "execution_count": 50,
   "metadata": {
    "colab": {
     "base_uri": "https://localhost:8080/"
    },
    "executionInfo": {
     "elapsed": 298,
     "status": "ok",
     "timestamp": 1730532716147,
     "user": {
      "displayName": "Yusuf Evren AYKAÇ",
      "userId": "02771263071343472956"
     },
     "user_tz": -180
    },
    "id": "B2OBsM9OyXW9",
    "outputId": "cdcf871c-ec1a-4d4f-c468-03ee9050eed8"
   },
   "outputs": [
    {
     "name": "stdout",
     "output_type": "stream",
     "text": [
      "\u001b[1m1/1\u001b[0m \u001b[32m━━━━━━━━━━━━━━━━━━━━\u001b[0m\u001b[37m\u001b[0m \u001b[1m0s\u001b[0m 19ms/step\n",
      "Predictions for new texts:\n",
      " [[0.99816257]\n",
      " [0.9972427 ]\n",
      " [0.04948124]\n",
      " [0.99795437]\n",
      " [0.00404574]\n",
      " [0.9951945 ]\n",
      " [0.98699784]\n",
      " [0.0246093 ]\n",
      " [0.9980774 ]\n",
      " [0.39965066]]\n"
     ]
    }
   ],
   "source": [
    "# Tokenize the text data for training\n",
    "new_tokens = tokenizer.texts_to_sequences(new_texts)\n",
    "new_tokens_pad = pad_sequences(new_tokens, maxlen=max_tokens)\n",
    "print(\"Predictions for new texts:\\n\", model.predict(new_tokens_pad))"
   ]
  }
 ],
 "metadata": {
  "accelerator": "GPU",
  "colab": {
   "authorship_tag": "ABX9TyOBmUHXYjBnzke0qxptFkIg",
   "gpuType": "T4",
   "provenance": []
  },
  "kernelspec": {
   "display_name": "Python 3",
   "name": "python3"
  },
  "language_info": {
   "name": "python"
  }
 },
 "nbformat": 4,
 "nbformat_minor": 0
}
